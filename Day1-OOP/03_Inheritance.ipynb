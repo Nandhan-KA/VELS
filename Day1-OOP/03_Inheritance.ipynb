{
 "cells": [
  {
   "cell_type": "markdown",
   "id": "2530e4a0",
   "metadata": {},
   "source": [
    "# Inheritance in Python\n",
    "\n",
    "Welcome to this tutorial on Inheritance in Python! This notebook will cover how to implement and use inheritance in Object-Oriented Programming.\n",
    "\n",
    "*Created by: MysticDevil and Nandhan K*"
   ]
  },
  {
   "cell_type": "markdown",
   "id": "5d75f876",
   "metadata": {},
   "source": [
    "## 1. Basic Inheritance"
   ]
  },
  {
   "cell_type": "code",
   "execution_count": null,
   "id": "2395b6c1",
   "metadata": {},
   "outputs": [],
   "source": [
    "class Person:\n",
    "    def __init__(self, name, age):\n",
    "        self.name = name\n",
    "        self.age = age\n",
    "    \n",
    "    def introduce(self):\n",
    "        return f\"My name is {self.name} and I'm {self.age} years old.\"\n",
    "\n",
    "class Student(Person):\n",
    "    def __init__(self, name, age, student_id):\n",
    "        super().__init__(name, age)\n",
    "        self.student_id = student_id\n",
    "        self.courses = []\n",
    "    \n",
    "    def enroll(self, course):\n",
    "        self.courses.append(course)\n",
    "        return f\"Enrolled in {course}\"\n",
    "    \n",
    "    def introduce(self):\n",
    "        basic_intro = super().introduce()\n",
    "        return f\"{basic_intro} I'm a student with ID {self.student_id}.\"\n",
    "\n",
    "# Testing inheritance\n",
    "person = Person(\"John\", 30)\n",
    "student = Student(\"Alice\", 20, \"CS123\")\n",
    "\n",
    "print(\"Person:\")\n",
    "print(person.introduce())\n",
    "\n",
    "print(\"\\nStudent:\")\n",
    "print(student.introduce())\n",
    "print(student.enroll(\"Python Programming\"))\n",
    "print(f\"Courses: {student.courses}\")"
   ]
  },
  {
   "cell_type": "markdown",
   "id": "27981b49",
   "metadata": {},
   "source": [
    "## 2. Multiple Inheritance"
   ]
  },
  {
   "cell_type": "code",
   "execution_count": null,
   "id": "284d05eb",
   "metadata": {},
   "outputs": [],
   "source": [
    "class Employee:\n",
    "    def __init__(self, employee_id, salary):\n",
    "        self.employee_id = employee_id\n",
    "        self.salary = salary\n",
    "    \n",
    "    def get_salary(self):\n",
    "        return f\"Salary: ${self.salary}\"\n",
    "\n",
    "class TeachingAssistant(Student, Employee):\n",
    "    def __init__(self, name, age, student_id, employee_id, salary):\n",
    "        Student.__init__(self, name, age, student_id)\n",
    "        Employee.__init__(self, employee_id, salary)\n",
    "        self.classes_teaching = []\n",
    "    \n",
    "    def assign_class(self, class_name):\n",
    "        self.classes_teaching.append(class_name)\n",
    "        return f\"Assigned to teach {class_name}\"\n",
    "    \n",
    "    def introduce(self):\n",
    "        student_intro = Student.introduce(self)\n",
    "        return f\"{student_intro} I'm also a teaching assistant (ID: {self.employee_id}).\"\n",
    "\n",
    "# Testing multiple inheritance\n",
    "ta = TeachingAssistant(\"Bob\", 25, \"CS456\", \"TA789\", 2000)\n",
    "print(ta.introduce())\n",
    "print(ta.get_salary())\n",
    "print(ta.assign_class(\"Python Lab\"))\n",
    "print(f\"Teaching: {ta.classes_teaching}\")"
   ]
  },
  {
   "cell_type": "markdown",
   "id": "6ea5d7e7",
   "metadata": {},
   "source": [
    "## 3. Method Resolution Order (MRO)"
   ]
  },
  {
   "cell_type": "code",
   "execution_count": null,
   "id": "5100bcdc",
   "metadata": {},
   "outputs": [],
   "source": [
    "class A:\n",
    "    def method(self):\n",
    "        return \"Method from A\"\n",
    "\n",
    "class B(A):\n",
    "    def method(self):\n",
    "        return \"Method from B\"\n",
    "\n",
    "class C(A):\n",
    "    def method(self):\n",
    "        return \"Method from C\"\n",
    "\n",
    "class D(B, C):\n",
    "    pass\n",
    "\n",
    "# Demonstrating MRO\n",
    "d = D()\n",
    "print(\"Method Resolution Order:\", [cls.__name__ for cls in D.__mro__])\n",
    "print(\"Method called:\", d.method())"
   ]
  },
  {
   "cell_type": "markdown",
   "id": "dbf78ab8",
   "metadata": {},
   "source": [
    "## 4. Inheritance with Properties"
   ]
  },
  {
   "cell_type": "code",
   "execution_count": null,
   "id": "8606f7ea",
   "metadata": {},
   "outputs": [],
   "source": [
    "class Account:\n",
    "    def __init__(self, account_number, balance=0):\n",
    "        self._account_number = account_number\n",
    "        self._balance = balance\n",
    "    \n",
    "    @property\n",
    "    def balance(self):\n",
    "        return self._balance\n",
    "    \n",
    "    @balance.setter\n",
    "    def balance(self, value):\n",
    "        if value < 0:\n",
    "            raise ValueError(\"Balance cannot be negative\")\n",
    "        self._balance = value\n",
    "\n",
    "class SavingsAccount(Account):\n",
    "    def __init__(self, account_number, balance=0, interest_rate=0.01):\n",
    "        super().__init__(account_number, balance)\n",
    "        self.interest_rate = interest_rate\n",
    "    \n",
    "    def apply_interest(self):\n",
    "        interest = self.balance * self.interest_rate\n",
    "        self.balance += interest\n",
    "        return f\"Applied interest: ${interest:.2f}\"\n",
    "\n",
    "# Testing account inheritance\n",
    "savings = SavingsAccount(\"SA001\", 1000, 0.05)\n",
    "print(f\"Initial balance: ${savings.balance}\")\n",
    "print(savings.apply_interest())\n",
    "print(f\"New balance: ${savings.balance}\")\n",
    "\n",
    "try:\n",
    "    savings.balance = -100\n",
    "except ValueError as e:\n",
    "    print(f\"Error: {e}\")"
   ]
  },
  {
   "cell_type": "markdown",
   "id": "3c7d9373",
   "metadata": {},
   "source": [
    "## 5. Abstract Base Classes and Inheritance"
   ]
  },
  {
   "cell_type": "code",
   "execution_count": null,
   "id": "0cbd85a7",
   "metadata": {},
   "outputs": [],
   "source": [
    "from abc import ABC, abstractmethod\n",
    "\n",
    "class Animal(ABC):\n",
    "    def __init__(self, name):\n",
    "        self.name = name\n",
    "    \n",
    "    @abstractmethod\n",
    "    def speak(self):\n",
    "        pass\n",
    "    \n",
    "    @abstractmethod\n",
    "    def move(self):\n",
    "        pass\n",
    "\n",
    "class Bird(Animal):\n",
    "    def speak(self):\n",
    "        return f\"{self.name} chirps!\"\n",
    "    \n",
    "    def move(self):\n",
    "        return f\"{self.name} flies in the sky\"\n",
    "\n",
    "class Dog(Animal):\n",
    "    def speak(self):\n",
    "        return f\"{self.name} barks!\"\n",
    "    \n",
    "    def move(self):\n",
    "        return f\"{self.name} runs on four legs\"\n",
    "\n",
    "# Testing abstract inheritance\n",
    "sparrow = Bird(\"Sparrow\")\n",
    "dog = Dog(\"Buddy\")\n",
    "\n",
    "for animal in [sparrow, dog]:\n",
    "    print(f\"\\n{animal.__class__.__name__}:\")\n",
    "    print(animal.speak())\n",
    "    print(animal.move())"
   ]
  }
 ],
 "metadata": {
  "language_info": {
   "name": "python"
  }
 },
 "nbformat": 4,
 "nbformat_minor": 5
}
