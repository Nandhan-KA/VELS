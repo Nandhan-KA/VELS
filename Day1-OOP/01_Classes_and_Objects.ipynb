{
 "cells": [
  {
   "cell_type": "markdown",
   "id": "7437be21",
   "metadata": {},
   "source": [
    "# Classes and Objects in Python\n",
    "\n",
    "Welcome to this tutorial on Classes and Objects in Python! This notebook will cover the fundamental concepts of Object-Oriented Programming (OOP) with a focus on classes and objects.\n",
    "\n",
    "*Created by: MysticDevil and Nandhan K*"
   ]
  },
  {
   "cell_type": "markdown",
   "id": "097cfcdb",
   "metadata": {},
   "source": [
    "## 1. What is a Class?\n",
    "A class is a blueprint for creating objects. It encapsulates data and behavior that are related to each other."
   ]
  },
  {
   "cell_type": "code",
   "execution_count": null,
   "id": "9d6daa58",
   "metadata": {},
   "outputs": [],
   "source": [
    "# Simple class definition\n",
    "class Student:\n",
    "    # Class variable (shared by all instances)\n",
    "    school_name = \"Vels University\"\n",
    "    \n",
    "    # Constructor method\n",
    "    def __init__(self, name, roll_no):\n",
    "        # Instance variables (unique to each instance)\n",
    "        self.name = name\n",
    "        self.roll_no = roll_no\n",
    "        self.grades = []\n",
    "    \n",
    "    # Instance method\n",
    "    def add_grade(self, grade):\n",
    "        self.grades.append(grade)\n",
    "    \n",
    "    def get_average(self):\n",
    "        if not self.grades:\n",
    "            return 0\n",
    "        return sum(self.grades) / len(self.grades)\n",
    "    \n",
    "    def display_info(self):\n",
    "        return f\"Name: {self.name}, Roll No: {self.roll_no}, School: {self.school_name}\""
   ]
  },
  {
   "cell_type": "markdown",
   "id": "aaf87173",
   "metadata": {},
   "source": [
    "## 2. Creating Objects (Instances)"
   ]
  },
  {
   "cell_type": "code",
   "execution_count": null,
   "id": "bee4c16b",
   "metadata": {},
   "outputs": [],
   "source": [
    "# Creating student objects\n",
    "student1 = Student(\"John Doe\", \"CS001\")\n",
    "student2 = Student(\"Jane Smith\", \"CS002\")\n",
    "\n",
    "# Adding grades\n",
    "student1.add_grade(85)\n",
    "student1.add_grade(90)\n",
    "student1.add_grade(88)\n",
    "\n",
    "student2.add_grade(92)\n",
    "student2.add_grade(95)\n",
    "student2.add_grade(89)\n",
    "\n",
    "# Displaying student information\n",
    "print(student1.display_info())\n",
    "print(f\"Average grade: {student1.get_average():.2f}\\n\")\n",
    "\n",
    "print(student2.display_info())\n",
    "print(f\"Average grade: {student2.get_average():.2f}\")"
   ]
  },
  {
   "cell_type": "markdown",
   "id": "aa22c094",
   "metadata": {},
   "source": [
    "## 3. Class Methods and Static Methods"
   ]
  },
  {
   "cell_type": "code",
   "execution_count": null,
   "id": "215585b3",
   "metadata": {},
   "outputs": [],
   "source": [
    "class Course:\n",
    "    all_courses = []\n",
    "    \n",
    "    def __init__(self, name, code, credits):\n",
    "        self.name = name\n",
    "        self.code = code\n",
    "        self.credits = credits\n",
    "        Course.all_courses.append(self)\n",
    "    \n",
    "    @classmethod\n",
    "    def from_string(cls, course_str):\n",
    "        \"\"\"Create a course from a string format: 'name-code-credits'\"\"\"\n",
    "        name, code, credits = course_str.split('-')\n",
    "        return cls(name, code, int(credits))\n",
    "    \n",
    "    @staticmethod\n",
    "    def is_valid_credits(credits):\n",
    "        \"\"\"Check if the credits value is valid\"\"\"\n",
    "        return isinstance(credits, int) and 1 <= credits <= 6\n",
    "    \n",
    "    def display_info(self):\n",
    "        return f\"Course: {self.name} ({self.code}), Credits: {self.credits}\"\n",
    "\n",
    "# Creating courses using different methods\n",
    "course1 = Course(\"Python Programming\", \"CS101\", 3)\n",
    "course2 = Course.from_string(\"Data Structures-CS102-4\")\n",
    "\n",
    "# Validating credits\n",
    "print(\"Validation:\")\n",
    "print(f\"Is 3 credits valid? {Course.is_valid_credits(3)}\")\n",
    "print(f\"Is 7 credits valid? {Course.is_valid_credits(7)}\")\n",
    "\n",
    "print(\"\\nCourses:\")\n",
    "print(course1.display_info())\n",
    "print(course2.display_info())"
   ]
  },
  {
   "cell_type": "markdown",
   "id": "0bd36ba7",
   "metadata": {},
   "source": [
    "## 4. Property Decorators"
   ]
  },
  {
   "cell_type": "code",
   "execution_count": null,
   "id": "21cb8be8",
   "metadata": {},
   "outputs": [],
   "source": [
    "class Grade:\n",
    "    def __init__(self, value=0):\n",
    "        self._value = 0  # Initialize with 0\n",
    "        self.value = value  # This will use the setter\n",
    "    \n",
    "    @property\n",
    "    def value(self):\n",
    "        return self._value\n",
    "    \n",
    "    @value.setter\n",
    "    def value(self, new_value):\n",
    "        if not isinstance(new_value, (int, float)):\n",
    "            raise ValueError(\"Grade must be a number\")\n",
    "        if not 0 <= new_value <= 100:\n",
    "            raise ValueError(\"Grade must be between 0 and 100\")\n",
    "        self._value = float(new_value)\n",
    "    \n",
    "    @property\n",
    "    def letter_grade(self):\n",
    "        if self.value >= 90:\n",
    "            return 'A'\n",
    "        elif self.value >= 80:\n",
    "            return 'B'\n",
    "        elif self.value >= 70:\n",
    "            return 'C'\n",
    "        elif self.value >= 60:\n",
    "            return 'D'\n",
    "        else:\n",
    "            return 'F'\n",
    "\n",
    "# Testing the Grade class\n",
    "try:\n",
    "    grade1 = Grade(85)\n",
    "    print(f\"Numerical grade: {grade1.value}\")\n",
    "    print(f\"Letter grade: {grade1.letter_grade}\")\n",
    "    \n",
    "    # Try to set an invalid grade\n",
    "    grade1.value = 105  # This will raise an error\n",
    "except ValueError as e:\n",
    "    print(f\"\\nError: {e}\")"
   ]
  },
  {
   "cell_type": "markdown",
   "id": "7f03715b",
   "metadata": {},
   "source": [
    "## 5. Special Methods (Magic Methods)"
   ]
  },
  {
   "cell_type": "code",
   "execution_count": null,
   "id": "94320d7a",
   "metadata": {},
   "outputs": [],
   "source": [
    "class Point:\n",
    "    def __init__(self, x, y):\n",
    "        self.x = x\n",
    "        self.y = y\n",
    "    \n",
    "    def __str__(self):\n",
    "        return f\"Point({self.x}, {self.y})\"\n",
    "    \n",
    "    def __repr__(self):\n",
    "        return f\"Point(x={self.x}, y={self.y})\"\n",
    "    \n",
    "    def __add__(self, other):\n",
    "        return Point(self.x + other.x, self.y + other.y)\n",
    "    \n",
    "    def __eq__(self, other):\n",
    "        if not isinstance(other, Point):\n",
    "            return False\n",
    "        return self.x == other.x and self.y == other.y\n",
    "    \n",
    "    def __len__(self):\n",
    "        return int((self.x ** 2 + self.y ** 2) ** 0.5)\n",
    "\n",
    "# Testing special methods\n",
    "p1 = Point(3, 4)\n",
    "p2 = Point(1, 2)\n",
    "p3 = Point(3, 4)\n",
    "\n",
    "print(f\"p1: {p1}\")\n",
    "print(f\"p2: {p2}\")\n",
    "print(f\"p1 + p2: {p1 + p2}\")\n",
    "print(f\"p1 == p2: {p1 == p2}\")\n",
    "print(f\"p1 == p3: {p1 == p3}\")\n",
    "print(f\"Length of p1: {len(p1)}\")"
   ]
  }
 ],
 "metadata": {
  "language_info": {
   "name": "python"
  }
 },
 "nbformat": 4,
 "nbformat_minor": 5
}
