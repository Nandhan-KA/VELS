{
 "cells": [
  {
   "cell_type": "code",
   "execution_count": 1,
   "id": "f3e121ff",
   "metadata": {},
   "outputs": [],
   "source": [
    "# 📌 Cell 1: Import Libraries\n",
    "import numpy as np\n",
    "import pandas as pd\n",
    "import matplotlib.pyplot as plt\n",
    "from sklearn.model_selection import train_test_split\n",
    "from sklearn.linear_model import LinearRegression\n",
    "from sklearn.metrics import mean_squared_error, r2_score\n"
   ]
  },
  {
   "cell_type": "code",
   "execution_count": 2,
   "id": "ab4084f5",
   "metadata": {},
   "outputs": [
    {
     "data": {
      "text/html": [
       "<div>\n",
       "<style scoped>\n",
       "    .dataframe tbody tr th:only-of-type {\n",
       "        vertical-align: middle;\n",
       "    }\n",
       "\n",
       "    .dataframe tbody tr th {\n",
       "        vertical-align: top;\n",
       "    }\n",
       "\n",
       "    .dataframe thead th {\n",
       "        text-align: right;\n",
       "    }\n",
       "</style>\n",
       "<table border=\"1\" class=\"dataframe\">\n",
       "  <thead>\n",
       "    <tr style=\"text-align: right;\">\n",
       "      <th></th>\n",
       "      <th>size</th>\n",
       "      <th>bedrooms</th>\n",
       "      <th>price</th>\n",
       "    </tr>\n",
       "  </thead>\n",
       "  <tbody>\n",
       "    <tr>\n",
       "      <th>0</th>\n",
       "      <td>2149.014246</td>\n",
       "      <td>1</td>\n",
       "      <td>376687.071039</td>\n",
       "    </tr>\n",
       "    <tr>\n",
       "      <th>1</th>\n",
       "      <td>1958.520710</td>\n",
       "      <td>2</td>\n",
       "      <td>377336.876123</td>\n",
       "    </tr>\n",
       "    <tr>\n",
       "      <th>2</th>\n",
       "      <td>2194.306561</td>\n",
       "      <td>1</td>\n",
       "      <td>415416.328562</td>\n",
       "    </tr>\n",
       "    <tr>\n",
       "      <th>3</th>\n",
       "      <td>2456.908957</td>\n",
       "      <td>1</td>\n",
       "      <td>413919.057210</td>\n",
       "    </tr>\n",
       "    <tr>\n",
       "      <th>4</th>\n",
       "      <td>1929.753988</td>\n",
       "      <td>3</td>\n",
       "      <td>404012.296830</td>\n",
       "    </tr>\n",
       "  </tbody>\n",
       "</table>\n",
       "</div>"
      ],
      "text/plain": [
       "          size  bedrooms          price\n",
       "0  2149.014246         1  376687.071039\n",
       "1  1958.520710         2  377336.876123\n",
       "2  2194.306561         1  415416.328562\n",
       "3  2456.908957         1  413919.057210\n",
       "4  1929.753988         3  404012.296830"
      ]
     },
     "execution_count": 2,
     "metadata": {},
     "output_type": "execute_result"
    }
   ],
   "source": [
    "# 📌 Cell 2: Generate Simple House Price Dataset\n",
    "np.random.seed(42)  # reproducibility\n",
    "n_samples = 100\n",
    "\n",
    "size = np.random.normal(2000, 300, n_samples)   # house size (sqft)\n",
    "bedrooms = np.random.randint(1, 5, n_samples)  # number of bedrooms\n",
    "\n",
    "# Target (house price)\n",
    "price = 50000 + 150 * size + 20000 * bedrooms + np.random.normal(0, 20000, n_samples)\n",
    "\n",
    "# Put into DataFrame\n",
    "house_data = pd.DataFrame({\n",
    "    'size': size,\n",
    "    'bedrooms': bedrooms,\n",
    "    'price': price\n",
    "})\n",
    "\n",
    "house_data.head()\n"
   ]
  },
  {
   "cell_type": "code",
   "execution_count": 3,
   "id": "213bf342",
   "metadata": {},
   "outputs": [],
   "source": [
    "\n",
    "# 📌 Cell 3: Define Features (X) and Target (y)\n",
    "X = house_data[['size', 'bedrooms']]  # input features\n",
    "y = house_data['price']               # target (house price)\n"
   ]
  },
  {
   "cell_type": "code",
   "execution_count": 4,
   "id": "170cb3f5",
   "metadata": {},
   "outputs": [
    {
     "name": "stdout",
     "output_type": "stream",
     "text": [
      "Training samples: 80\n",
      "Testing samples: 20\n"
     ]
    }
   ],
   "source": [
    "# 📌 Cell 4: Train-Test Split\n",
    "X_train, X_test, y_train, y_test = train_test_split(X, y, test_size=0.2, random_state=42)\n",
    "\n",
    "print(\"Training samples:\", len(X_train))\n",
    "print(\"Testing samples:\", len(X_test))\n"
   ]
  },
  {
   "cell_type": "code",
   "execution_count": 5,
   "id": "eeafba13",
   "metadata": {},
   "outputs": [
    {
     "name": "stdout",
     "output_type": "stream",
     "text": [
      "Model trained successfully!\n"
     ]
    }
   ],
   "source": [
    "# 📌 Cell 5: Train Linear Regression Model\n",
    "model = LinearRegression()\n",
    "model.fit(X_train, y_train)\n",
    "\n",
    "print(\"Model trained successfully!\")\n"
   ]
  },
  {
   "cell_type": "code",
   "execution_count": 7,
   "id": "e9e257a2",
   "metadata": {},
   "outputs": [
    {
     "name": "stdout",
     "output_type": "stream",
     "text": [
      "Making predictions on test set...\n",
      "Trained x:             size  bedrooms\n",
      "55  2279.384036         4\n",
      "88  1841.071939         4\n",
      "26  1654.701927         1\n",
      "42  1965.305515         3\n",
      "69  1806.464074         4\n",
      "..          ...       ...\n",
      "60  1856.247729         4\n",
      "71  2461.410970         1\n",
      "14  1482.524650         1\n",
      "92  1789.384072         1\n",
      "51  1884.475316         3\n",
      "\n",
      "[80 rows x 2 columns]\n",
      "Test x:             size  bedrooms\n",
      "83  1844.518935         2\n",
      "53  2183.502887         3\n",
      "70  2108.418682         1\n",
      "45  1784.046737         1\n",
      "44  1556.443403         2\n",
      "39  2059.058371         4\n",
      "22  2020.258461         2\n",
      "80  1934.098434         3\n",
      "10  1860.974692         2\n",
      "0   2149.014246         1\n",
      "18  1727.592777         1\n",
      "30  1819.488016         1\n",
      "73  2469.393097         3\n",
      "33  1682.686721         2\n",
      "90  2029.123265         4\n",
      "4   1929.753988         3\n",
      "76  2026.114120         1\n",
      "77  1910.297795         3\n",
      "12  2072.588681         4\n",
      "31  2555.683455         3\n",
      "First 5 Predictions: [369934.67114754 438534.05211326 391070.48367908 342789.89621161\n",
      " 327056.56115082]\n",
      "First 5 Actual: [368315.32296541234, 407228.4885041218, 396563.5075920518, 320463.85949391243, 335979.8573887659]\n"
     ]
    }
   ],
   "source": [
    "# 📌 Cell 6: Make Predictions\n",
    "print(\"Making predictions on test set...\")\n",
    "print(\"Trained x: \", X_train)\n",
    "print(\"Test x: \", X_test )\n",
    "y_pred = model.predict(X_test)\n",
    "\n",
    "print(\"First 5 Predictions:\", y_pred[:5])\n",
    "print(\"First 5 Actual:\", list(y_test[:5]))\n"
   ]
  },
  {
   "cell_type": "code",
   "execution_count": 8,
   "id": "c550a9d5",
   "metadata": {},
   "outputs": [
    {
     "name": "stdout",
     "output_type": "stream",
     "text": [
      "📊 Linear Regression Results:\n",
      "Mean Squared Error: 613415358.71\n",
      "R² Score: 0.8398\n"
     ]
    }
   ],
   "source": [
    "# 📌 Cell 7: Evaluate the Model\n",
    "mse = mean_squared_error(y_test, y_pred)\n",
    "r2 = r2_score(y_test, y_pred)\n",
    "\n",
    "print(\"📊 Linear Regression Results:\")\n",
    "print(f\"Mean Squared Error: {mse:.2f}\")\n",
    "print(f\"R² Score: {r2:.4f}\")\n"
   ]
  },
  {
   "cell_type": "code",
   "execution_count": 9,
   "id": "13fc2c98",
   "metadata": {},
   "outputs": [
    {
     "data": {
      "image/png": "[encoded data removed]",
      "text/plain": [
       "<Figure size 800x600 with 1 Axes>"
      ]
     },
     "metadata": {},
     "output_type": "display_data"
    }
   ],
   "source": [
    "# 📌 Cell 8: Visualize Actual vs Predicted Prices\n",
    "plt.figure(figsize=(8, 6))\n",
    "plt.scatter(y_test, y_pred, color=\"blue\", alpha=0.6, label=\"Predicted\")\n",
    "plt.plot([y_test.min(), y_test.max()], [y_test.min(), y_test.max()], \"r--\", label=\"Perfect Fit\")\n",
    "plt.xlabel(\"Actual Price\")\n",
    "plt.ylabel(\"Predicted Price\")\n",
    "plt.title(\"Actual vs Predicted House Prices\")\n",
    "plt.legend()\n",
    "plt.show()\n"
   ]
  }
 ],
 "metadata": {
  "kernelspec": {
   "display_name": "Python 3",
   "language": "python",
   "name": "python3"
  },
  "language_info": {
   "codemirror_mode": {
    "name": "ipython",
    "version": 3
   },
   "file_extension": ".py",
   "mimetype": "text/x-python",
   "name": "python",
   "nbconvert_exporter": "python",
   "pygments_lexer": "ipython3",
   "version": "3.8.0"
  }
 },
 "nbformat": 4,
 "nbformat_minor": 5
}
