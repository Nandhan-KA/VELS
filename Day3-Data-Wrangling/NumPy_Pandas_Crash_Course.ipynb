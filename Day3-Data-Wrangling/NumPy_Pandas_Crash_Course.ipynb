{
  "cells": [
    {
      "cell_type": "markdown",
      "metadata": {},
      "source": [
        "# 📘 NumPy Basics"
      ]
    },
    {
      "cell_type": "code",
      "execution_count": 259,
      "metadata": {},
      "outputs": [],
      "source": [
        "import numpy as np\n"
      ]
    },
    {
      "cell_type": "markdown",
      "metadata": {},
      "source": [
        "### Creating Arrays"
      ]
    },
    {
      "cell_type": "code",
      "execution_count": 260,
      "metadata": {},
      "outputs": [
        {
          "name": "stdout",
          "output_type": "stream",
          "text": [
            "1D: [1 2 3]\n",
            "2D:\n",
            " [[1 2]\n",
            " [3 4]]\n",
            "3D:\n",
            " [[[1 2]\n",
            "  [3 4]]\n",
            "\n",
            " [[5 6]\n",
            "  [7 8]]]\n"
          ]
        }
      ],
      "source": [
        "a = np.array([1, 2, 3]) # 1D array 1X3 matrix\n",
        "b = np.array(\n",
        "            [[1, 2],\n",
        "              [3, 4]]\n",
        "            ) # 2D array 2 x 2 matrix\n",
        "c=np.array(\n",
        "            [[[1, 2],\n",
        "              [3, 4]],\n",
        "             [[5, 6],\n",
        "              [7, 8]]]\n",
        "            ) # 3D array 2 x 2 x 2 matrix\n",
        "# 2 3D = 4D 2 X 2X 2X 2 matrix\n",
        "print(\"1D:\", a)\n",
        "print(\"2D:\\n\", b)\n",
        "print(\"3D:\\n\", c)\n"
      ]
    },
    {
      "cell_type": "markdown",
      "metadata": {},
      "source": [
        "### Array Properties"
      ]
    },
    {
      "cell_type": "code",
      "execution_count": 261,
      "metadata": {},
      "outputs": [
        {
          "name": "stdout",
          "output_type": "stream",
          "text": [
            "Shape: (2, 2, 2)\n",
            "Size: 8\n",
            "Data Type: int32\n",
            "Dimension: 3\n"
          ]
        }
      ],
      "source": [
        "print(\"Shape:\", c.shape)\n",
        "print(\"Size:\", c.size)\n",
        "print(\"Data Type:\", c.dtype)\n",
        "print(\"Dimension:\", c.ndim)"
      ]
    },
    {
      "cell_type": "markdown",
      "metadata": {},
      "source": [
        "### Array Initialization"
      ]
    },
    {
      "cell_type": "code",
      "execution_count": 262,
      "id": "ead20c94",
      "metadata": {},
      "outputs": [
        {
          "name": "stdout",
          "output_type": "stream",
          "text": [
            "[[0. 1. 0.]\n",
            " [0. 0. 1.]\n",
            " [0. 0. 0.]]\n"
          ]
        }
      ],
      "source": [
        "print(np.eye(N=3,M=3,k=1 ))\n",
        "\n"
      ]
    },
    {
      "cell_type": "code",
      "execution_count": 263,
      "id": "bf1e654f",
      "metadata": {},
      "outputs": [
        {
          "name": "stdout",
          "output_type": "stream",
          "text": [
            "Zeros:\n",
            " [[0. 0. 0.]\n",
            " [0. 0. 0.]]\n",
            "After adding 3:\n",
            " [[3. 3. 3.]\n",
            " [3. 3. 3.]]\n"
          ]
        }
      ],
      "source": [
        "x=np.zeros((2,3)) # 2 X3 array of Zeros\n",
        "print(\"Zeros:\\n\", x)\n",
        "x=x+3\n",
        "print(\"After adding 3:\\n\", x)"
      ]
    },
    {
      "cell_type": "code",
      "execution_count": 264,
      "metadata": {},
      "outputs": [
        {
          "name": "stdout",
          "output_type": "stream",
          "text": [
            "[ 1.    3.25  5.5   7.75 10.  ]\n"
          ]
        }
      ],
      "source": [
        "# print(np.zeros((2,3))) # 2 X3 array of Zeros\n",
        "# # [[0. 0. 0.]\n",
        "# # [0. 0. 0.]]\n",
        " \n",
        "# print(np.ones((3,3)))\n",
        "# #[[1. 1. 1.]\n",
        "# #  [1. 1. 1.]\n",
        "# #  [1. 1. 1.]]\n",
        "# print(np.eye(3))\n",
        "# for i in range(1, 11, 2): #(starting, ending -1, step)\n",
        "#     print(i, end=\" \")\n",
        "    \n",
        "# print(np.arange(0, 10, 2))\n",
        "x=np.linspace(1,10, 5)\n",
        "print(x)"
      ]
    },
    {
      "cell_type": "markdown",
      "metadata": {},
      "source": [
        "### Indexing and Slicing"
      ]
    },
    {
      "cell_type": "code",
      "execution_count": 265,
      "metadata": {},
      "outputs": [
        {
          "name": "stdout",
          "output_type": "stream",
          "text": [
            "20\n",
            "[30 40]\n",
            "6\n"
          ]
        }
      ],
      "source": [
        "arr = np.array([10, 20, 30, 40, 50])  # slicing (start index, stop index -1, step size) everything separted by colons\n",
        "    #            0   1   2   3   4  positive index\n",
        "    #           -5  -4  -3  -2  -1  negative\n",
        "print(arr[1])\n",
        "print(arr[-3:-1])  # last element\n",
        "\n",
        "m = np.array([[1, 2, 3], [4, 5, 6]])\n",
        "#                0           1\n",
        "#               0  1  2    0  1  2\n",
        "print(m[1][2])\n",
        "# print(m[:,1])"
      ]
    },
    {
      "cell_type": "code",
      "execution_count": 266,
      "id": "41da7d97",
      "metadata": {},
      "outputs": [
        {
          "name": "stdout",
          "output_type": "stream",
          "text": [
            "[10 30]\n"
          ]
        }
      ],
      "source": [
        "arr = np.array([10, 20, 30, 40, 50])  # slicing (start index, stop index -1, step size) everything separted by colons\n",
        "    #            0   1   2   3   4  positive index\n",
        "    #           -5  -4  -3  -2  -1  negative\n",
        "\n",
        "print(arr[-5:-1:2])  # last element"
      ]
    },
    {
      "cell_type": "code",
      "execution_count": null,
      "id": "fe300a63",
      "metadata": {},
      "outputs": [
        {
          "name": "stdout",
          "output_type": "stream",
          "text": [
            "4\n"
          ]
        }
      ],
      "source": [
        "k=np.array([\n",
        "            [\n",
        "                [[1],[2]],\n",
        "                [[3],[4]]\n",
        "             ],\n",
        "            [\n",
        "                [[5],[6]],\n",
        "                [[7],[8]]\n",
        "             ]\n",
        "           ]\n",
        "            )\n",
        "print(k.ndim)\n",
        "j=[[[\n",
        "    [1]\n",
        "    ]]]\n",
        "# print(k[0][1][0])\n",
        "# print(k[1][1][0])\n",
        "# print(k[1,0,1]) # reversing the 1st dimension"
      ]
    },
    {
      "cell_type": "markdown",
      "metadata": {},
      "source": [
        "### Mathematical Operations"
      ]
    },
    {
      "cell_type": "code",
      "execution_count": 268,
      "metadata": {},
      "outputs": [
        {
          "name": "stdout",
          "output_type": "stream",
          "text": [
            "Add: [5 7 9]\n",
            "Multiply: [ 4 10 18]\n",
            "Square: [1 4 9]\n",
            "Dot: 32\n"
          ]
        }
      ],
      "source": [
        "a = np.array([1, 2, 3])\n",
        "b = np.array([4, 5, 6])\n",
        "\n",
        "print(\"Add:\", a + b)\n",
        "print(\"Multiply:\", a * b)\n",
        "print(\"Square:\", a ** 2)\n",
        "print(\"Dot:\", np.dot(a, b))"
      ]
    },
    {
      "cell_type": "markdown",
      "metadata": {},
      "source": [
        "### Statistical Functions"
      ]
    },
    {
      "cell_type": "code",
      "execution_count": 269,
      "metadata": {},
      "outputs": [
        {
          "name": "stdout",
          "output_type": "stream",
          "text": [
            "Mean: 3.0\n",
            "Std Dev: 1.4142135623730951\n",
            "Sum: 15\n"
          ]
        }
      ],
      "source": [
        "arr = np.array([1, 2, 3, 4, 5])\n",
        "print(\"Mean:\", np.mean(arr))\n",
        "print(\"Std Dev:\", np.std(arr))\n",
        "print(\"Sum:\", np.sum(arr))"
      ]
    },
    {
      "cell_type": "markdown",
      "metadata": {},
      "source": [
        "# 📘 Pandas Basics"
      ]
    },
    {
      "cell_type": "code",
      "execution_count": 270,
      "metadata": {},
      "outputs": [],
      "source": [
        "import pandas as pd"
      ]
    },
    {
      "cell_type": "markdown",
      "metadata": {},
      "source": [
        "### Creating Series"
      ]
    },
    {
      "cell_type": "code",
      "execution_count": 271,
      "metadata": {},
      "outputs": [
        {
          "name": "stdout",
          "output_type": "stream",
          "text": [
            "a    10\n",
            "b    20\n",
            "c    30\n",
            "dtype: int64\n"
          ]
        }
      ],
      "source": [
        "s = pd.Series([10, 20, 30], index=['a', 'b', 'c'])\n",
        "print(s)"
      ]
    },
    {
      "cell_type": "markdown",
      "metadata": {},
      "source": [
        "### Creating DataFrame"
      ]
    },
    {
      "cell_type": "code",
      "execution_count": 272,
      "metadata": {},
      "outputs": [
        {
          "name": "stdout",
          "output_type": "stream",
          "text": [
            "{'Name': ['Alice', 'Bob', 'Charlie'], 'Age': [25, 30, 35], 'Score': [85, 90, 95]}\n",
            "      Name  Age  Score\n",
            "0    Alice   25     85\n",
            "1      Bob   30     90\n",
            "2  Charlie   35     95\n",
            "File created\n"
          ]
        }
      ],
      "source": [
        "data = {\n",
        "    \"Name\": [\"Alice\", \"Bob\", \"Charlie\"],\n",
        "    \"Age\": [25, 30, 35],\n",
        "    \"Score\": [85, 90, 95]\n",
        "}\n",
        "print(data)\n",
        "df = pd.DataFrame(data)\n",
        "print(df)\n",
        "df.to_excel(\"output1.xlsx\", index=False)\n",
        "print(\"File created\")"
      ]
    },
    {
      "cell_type": "markdown",
      "metadata": {},
      "source": [
        "### Reading and Writing Files"
      ]
    },
    {
      "cell_type": "code",
      "execution_count": 284,
      "metadata": {},
      "outputs": [
        {
          "name": "stdout",
          "output_type": "stream",
          "text": [
            "  Month  Sales  Expenses  Profit\n",
            "0   Jan    200       150      50\n",
            "1   Feb    220       180      40\n",
            "2   Mar    250       160      90\n",
            "3   Apr    210       190      20\n"
          ]
        }
      ],
      "source": [
        "# df = pd.read_csv(\"new.csv\")\n",
        "# print(df)\n",
        "# df.to_excel(\"output.xlsx\", index=False)\n",
        "\n",
        "\n",
        "import pandas as pd\n",
        "df1=pd.read_excel(\"sample_data.xlsx\")\n",
        "print(df1)"
      ]
    },
    {
      "cell_type": "markdown",
      "metadata": {},
      "source": [
        "### Exploring Data"
      ]
    },
    {
      "cell_type": "code",
      "execution_count": null,
      "metadata": {},
      "outputs": [
        {
          "name": "stdout",
          "output_type": "stream",
          "text": [
            "<class 'pandas.core.frame.DataFrame'>\n",
            "RangeIndex: 4 entries, 0 to 3\n",
            "Data columns (total 4 columns):\n",
            " #   Column    Non-Null Count  Dtype \n",
            "---  ------    --------------  ----- \n",
            " 0   Month     4 non-null      object\n",
            " 1   Sales     4 non-null      int64 \n",
            " 2   Expenses  4 non-null      int64 \n",
            " 3   Profit    4 non-null      int64 \n",
            "dtypes: int64(3), object(1)\n",
            "memory usage: 256.0+ bytes\n"
          ]
        }
      ],
      "source": [
        "df=pd.read_excel(\"sample_data.xlsx\")\n",
        "df.head()  # Display the first few rows\n",
        "df.tail(1)  # Display the last 3 rows\n",
        "df.shape # Get the shape of the DataFrame\n",
        "df.columns  # Get the column names\n",
        "df.describe()  # Get summary statistics\n",
        "df.info()  # Get information about the DataFrame"
      ]
    },
    {
      "cell_type": "markdown",
      "metadata": {},
      "source": [
        "### Selecting and Filtering"
      ]
    },
    {
      "cell_type": "code",
      "execution_count": 299,
      "metadata": {},
      "outputs": [
        {
          "name": "stdout",
          "output_type": "stream",
          "text": [
            "  Month  Sales  Expenses  Profit\n",
            "0   Jan    200       150      50\n",
            "1   Feb    220       180      40\n",
            "3   Apr    210       190      20\n"
          ]
        }
      ],
      "source": [
        "\n",
        "# print(df[[\"Month\", \"Sales\"]])\n",
        "print(df[df[\"Sales\"] <= 220])"
      ]
    },
    {
      "cell_type": "markdown",
      "metadata": {},
      "source": [
        "### Sorting and Grouping"
      ]
    },
    {
      "cell_type": "code",
      "execution_count": 304,
      "metadata": {},
      "outputs": [
        {
          "name": "stdout",
          "output_type": "stream",
          "text": [
            "      Name  Age  Score\n",
            "0    Alice   25     85\n",
            "1      Bob   30     90\n",
            "2  Charlie   35     95\n",
            "--------------------------------------------\n"
          ]
        },
        {
          "data": {
            "text/plain": [
              "Name     Age\n",
              "Alice    25     85\n",
              "Bob      30     90\n",
              "Charlie  35     95\n",
              "Name: Score, dtype: int64"
            ]
          },
          "execution_count": 304,
          "metadata": {},
          "output_type": "execute_result"
        }
      ],
      "source": [
        "# print(df.sort_values(by=\"Sales\", ascending=True))\n",
        "import pandas as pd\n",
        "data = {\n",
        "    \"Name\": [\"Alice\", \"Bob\", \"Charlie\"],\n",
        "    \"Age\": [25, 30, 35],\n",
        "    \"Score\": [85, 90,95]\n",
        "}\n",
        "\n",
        "df = pd.DataFrame(data)\n",
        "print(df)\n",
        "print(\"--------------------------------------------\")\n",
        "df.groupby([\"Name\",\"Age\"])[\"Score\"].sum()  # Group by 'name' and calculate the mean of 'score'"
      ]
    },
    {
      "cell_type": "code",
      "execution_count": 309,
      "id": "36a7bfec",
      "metadata": {},
      "outputs": [
        {
          "name": "stdout",
          "output_type": "stream",
          "text": [
            "False\n",
            "True\n"
          ]
        },
        {
          "name": "stderr",
          "output_type": "stream",
          "text": [
            "<>:4: SyntaxWarning: \"is not\" with a literal. Did you mean \"!=\"?\n",
            "<>:4: SyntaxWarning: \"is not\" with a literal. Did you mean \"!=\"?\n",
            "C:\\Users\\Nandhan\\AppData\\Local\\Temp\\ipykernel_17772\\1761852422.py:4: SyntaxWarning: \"is not\" with a literal. Did you mean \"!=\"?\n",
            "  print(\"a\" is not \"A\")\n"
          ]
        }
      ],
      "source": [
        "# print(ord(\"a\"))\n",
        "# print(ord(\"B\"))\n",
        "print(\"a\" < \"A\")\n",
        "print(\"a\" is not \"A\")"
      ]
    },
    {
      "cell_type": "markdown",
      "metadata": {},
      "source": [
        "### Handling Missing Data"
      ]
    },
    {
      "cell_type": "code",
      "execution_count": 316,
      "metadata": {},
      "outputs": [
        {
          "data": {
            "text/html": [
              "<div>\n",
              "<style scoped>\n",
              "    .dataframe tbody tr th:only-of-type {\n",
              "        vertical-align: middle;\n",
              "    }\n",
              "\n",
              "    .dataframe tbody tr th {\n",
              "        vertical-align: top;\n",
              "    }\n",
              "\n",
              "    .dataframe thead th {\n",
              "        text-align: right;\n",
              "    }\n",
              "</style>\n",
              "<table border=\"1\" class=\"dataframe\">\n",
              "  <thead>\n",
              "    <tr style=\"text-align: right;\">\n",
              "      <th></th>\n",
              "      <th>Month</th>\n",
              "      <th>Sales</th>\n",
              "      <th>Expenses</th>\n",
              "      <th>Profit</th>\n",
              "    </tr>\n",
              "  </thead>\n",
              "  <tbody>\n",
              "    <tr>\n",
              "      <th>0</th>\n",
              "      <td>Jan</td>\n",
              "      <td>200.0</td>\n",
              "      <td>150.0</td>\n",
              "      <td>50.0</td>\n",
              "    </tr>\n",
              "    <tr>\n",
              "      <th>1</th>\n",
              "      <td>Feb</td>\n",
              "      <td>220.0</td>\n",
              "      <td>3.0</td>\n",
              "      <td>40.0</td>\n",
              "    </tr>\n",
              "    <tr>\n",
              "      <th>2</th>\n",
              "      <td>Mar</td>\n",
              "      <td>3.0</td>\n",
              "      <td>160.0</td>\n",
              "      <td>90.0</td>\n",
              "    </tr>\n",
              "    <tr>\n",
              "      <th>3</th>\n",
              "      <td>Apr</td>\n",
              "      <td>210.0</td>\n",
              "      <td>190.0</td>\n",
              "      <td>3.0</td>\n",
              "    </tr>\n",
              "  </tbody>\n",
              "</table>\n",
              "</div>"
            ],
            "text/plain": [
              "  Month  Sales  Expenses  Profit\n",
              "0   Jan  200.0     150.0    50.0\n",
              "1   Feb  220.0       3.0    40.0\n",
              "2   Mar    3.0     160.0    90.0\n",
              "3   Apr  210.0     190.0     3.0"
            ]
          },
          "execution_count": 316,
          "metadata": {},
          "output_type": "execute_result"
        }
      ],
      "source": [
        "df=pd.read_excel(\"sample_data.xlsx\")\n",
        "df\n",
        "#df.info()\n",
        "#df.isnull()\n",
        "df.fillna(3)  # Fill NaN values with 0\n",
        "\n",
        "#\n"
      ]
    },
    {
      "cell_type": "markdown",
      "metadata": {},
      "source": [
        "### Apply Functions"
      ]
    },
    {
      "cell_type": "code",
      "execution_count": 318,
      "metadata": {},
      "outputs": [
        {
          "name": "stdout",
          "output_type": "stream",
          "text": [
            "  Month  Sales  Expenses  Profit  Bonus\n",
            "0   Jan  200.0     150.0    50.0   20.0\n",
            "1   Feb  220.0       NaN    40.0   22.0\n",
            "2   Mar    NaN     160.0    90.0    NaN\n",
            "3   Apr  210.0     190.0     NaN   21.0\n"
          ]
        }
      ],
      "source": [
        "df[\"Bonus\"] = df[\"Sales\"].apply(lambda x: x * 0.10)\n",
        "print(df)\n",
        "\n",
        "# n=pd.Series([1, 2, 3, 4, 5])\n",
        "\n",
        "# def mul(x):\n",
        "#     print(x*2)\n",
        "# for i in n:\n",
        "#     mul(i)\n",
        "    \n",
        "# n.apply(lambda x: x * 4)  # Apply a function to each element"
      ]
    },
    {
      "cell_type": "code",
      "execution_count": null,
      "id": "2b4b5986",
      "metadata": {},
      "outputs": [],
      "source": [
        "lambda x: x * 0.10  # Anonymous function"
      ]
    },
    {
      "cell_type": "markdown",
      "metadata": {},
      "source": [
        "### Merging DataFrames"
      ]
    },
    {
      "cell_type": "code",
      "execution_count": 279,
      "metadata": {},
      "outputs": [
        {
          "name": "stdout",
          "output_type": "stream",
          "text": [
            "   ID   Name  Marks\n",
            "0   1  Alice     90\n",
            "1   2    Bob     80\n"
          ]
        }
      ],
      "source": [
        "df1 = pd.DataFrame({\"ID\": [1, 2], \"Name\": [\"Alice\", \"Bob\"]})\n",
        "df2 = pd.DataFrame({\"ID\": [1, 2], \"Marks\": [90, 80]})\n",
        "\n",
        "merged = pd.merge(df1, df2, on=\"ID\")\n",
        "print(merged)"
      ]
    }
  ],
  "metadata": {
    "kernelspec": {
      "display_name": "Python 3",
      "language": "python",
      "name": "python3"
    },
    "language_info": {
      "codemirror_mode": {
        "name": "ipython",
        "version": 3
      },
      "file_extension": ".py",
      "mimetype": "text/x-python",
      "name": "python",
      "nbconvert_exporter": "python",
      "pygments_lexer": "ipython3",
      "version": "3.8.0"
    }
  },
  "nbformat": 4,
  "nbformat_minor": 5
}
