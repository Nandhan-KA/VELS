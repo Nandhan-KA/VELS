{
 "cells": [
  {
   "cell_type": "markdown",
   "id": "b9e1f847",
   "metadata": {},
   "source": [
    "# Day 3: Data Wrangling I - Date/Time and Data Transformation\n",
    "\n",
    "This notebook covers handling date/time data and data transformation techniques."
   ]
  },
  {
   "cell_type": "markdown",
   "id": "791e043d",
   "metadata": {},
   "source": [
    "## 1. Setting up the Environment"
   ]
  },
  {
   "cell_type": "code",
   "execution_count": 1,
   "id": "0638f489",
   "metadata": {},
   "outputs": [],
   "source": [
    "import pandas as pd\n",
    "import numpy as np\n",
    "from datetime import datetime\n",
    "import pytz"
   ]
  },
  {
   "cell_type": "markdown",
   "id": "1c0d2bb8",
   "metadata": {},
   "source": [
    "## 2. Working with Datetime"
   ]
  },
  {
   "cell_type": "code",
   "execution_count": 5,
   "id": "d3849f83",
   "metadata": {},
   "outputs": [
    {
     "name": "stdout",
     "output_type": "stream",
     "text": [
      "Current date and time: 2025-09-17 14:18:31.339980\n",
      "\n",
      "Parsed date: 2023-09-15 14:30:00\n",
      "\n",
      "Formatted date: September 17, 2025 at 02:18 PM\n"
     ]
    }
   ],
   "source": [
    "# Creating datetime objects\n",
    "current_date = datetime.now()\n",
    "print(\"Current date and time:\", current_date)\n",
    "\n",
    "# Creating datetime from string\n",
    "date_string = \"2023-09-15 14:30:00\"\n",
    "parsed_date = datetime.strptime(date_string, \"%Y-%m-%d %H:%M:%S\")\n",
    "print(\"\\nParsed date:\", parsed_date)\n",
    "\n",
    "# Formatting dates\n",
    "formatted_date = current_date.strftime(\"%B %d, %Y at %I:%M %p\")\n",
    "print(\"\\nFormatted date:\", formatted_date)"
   ]
  },
  {
   "cell_type": "markdown",
   "id": "fa3750ff",
   "metadata": {},
   "source": [
    "## 3. Working with Time Zones"
   ]
  },
  {
   "cell_type": "code",
   "execution_count": 4,
   "id": "a0359477",
   "metadata": {},
   "outputs": [
    {
     "name": "stdout",
     "output_type": "stream",
     "text": [
      "UTC time: 2025-09-17 08:44:52.756561+00:00\n",
      "time:  2025-09-17 01:44:52.756561-07:00\n",
      "\n",
      "Time in US/Pacific: 2025-09-17 01:44:52 PDT\n",
      "time:  2025-09-17 04:44:52.756561-04:00\n",
      "\n",
      "Time in US/Eastern: 2025-09-17 04:44:52 EDT\n",
      "time:  2025-09-17 17:44:52.756561+09:00\n",
      "\n",
      "Time in Asia/Tokyo: 2025-09-17 17:44:52 JST\n",
      "time:  2025-09-17 09:44:52.756561+01:00\n",
      "\n",
      "Time in Europe/London: 2025-09-17 09:44:52 BST\n",
      "time:  2025-09-17 14:14:52.756561+05:30\n",
      "\n",
      "Time in Asia/Kolkata: 2025-09-17 14:14:52 IST\n"
     ]
    }
   ],
   "source": [
    "# Working with different time zones\n",
    "utc_now = datetime.now(pytz.UTC)\n",
    "print(\"UTC time:\", utc_now)\n",
    "\n",
    "# Convert to different time zones\n",
    "time_zones = ['US/Pacific', 'US/Eastern', 'Asia/Tokyo', 'Europe/London','Asia/Kolkata']\n",
    "\n",
    "for tz in time_zones:\n",
    "    local_tz = pytz.timezone(tz)\n",
    "    local_time = utc_now.astimezone(local_tz)\n",
    "    print(\"time: \", local_time)\n",
    "    print(f\"\\nTime in {tz}:\", local_time.strftime(\"%Y-%m-%d %H:%M:%S %Z\"))"
   ]
  },
  {
   "cell_type": "markdown",
   "id": "98c12c81",
   "metadata": {},
   "source": [
    "## 4. Date Operations in Pandas"
   ]
  },
  {
   "cell_type": "code",
   "execution_count": null,
   "id": "cc189e4d",
   "metadata": {},
   "outputs": [],
   "source": [
    "# Create sample DataFrame with dates\n",
    "dates = pd.date_range(start='2023-01-01', end='2023-12-31', freq='D')\n",
    "df = pd.DataFrame({'date': dates})\n",
    "\n",
    "# Extract components\n",
    "df['year'] = df['date'].dt.year\n",
    "df['month'] = df['date'].dt.month\n",
    "df['day'] = df['date'].dt.day\n",
    "df['day_of_week'] = df['date'].dt.day_name()\n",
    "df['quarter'] = df['date'].dt.quarter\n",
    "\n",
    "print(\"Sample of date components:\")\n",
    "print(df.head())"
   ]
  },
  {
   "cell_type": "markdown",
   "id": "e08eeb49",
   "metadata": {},
   "source": [
    "## 5. Data Binning"
   ]
  },
  {
   "cell_type": "code",
   "execution_count": 5,
   "id": "c5267127",
   "metadata": {},
   "outputs": [
    {
     "name": "stdout",
     "output_type": "stream",
     "text": [
      "Age group distribution:\n",
      "age_group\n",
      "Child          119\n",
      "Teenager        78\n",
      "Young Adult    165\n",
      "Adult          132\n",
      "Middle Aged    165\n",
      "Senior         325\n",
      "Name: count, dtype: int64\n"
     ]
    }
   ],
   "source": [
    "# Create sample age data\n",
    "np.random.seed(42)\n",
    "ages = np.random.randint(0, 100, 1000)\n",
    "df_ages = pd.DataFrame({'age': ages})\n",
    "\n",
    "# Create age bins\n",
    "bins = [0, 12, 19, 35, 50, 65, 100]\n",
    "labels = ['Child', 'Teenager', 'Young Adult', 'Adult', 'Middle Aged', 'Senior']\n",
    "\n",
    "df_ages['age_group'] = pd.cut(df_ages['age'], bins=bins, labels=labels)\n",
    "\n",
    "# Display distribution\n",
    "print(\"Age group distribution:\")\n",
    "print(df_ages['age_group'].value_counts().sort_index())"
   ]
  },
  {
   "cell_type": "markdown",
   "id": "d3a3f1db",
   "metadata": {},
   "source": [
    "## 6. Data Transformation"
   ]
  },
  {
   "cell_type": "code",
   "execution_count": null,
   "id": "85c3f8bb",
   "metadata": {},
   "outputs": [],
   "source": [
    "# Create sample data\n",
    "data = {\n",
    "    'income': np.random.lognormal(10, 1, 1000),\n",
    "    'score': np.random.normal(70, 15, 1000)\n",
    "}\n",
    "df_transform = pd.DataFrame(data)\n",
    "\n",
    "# Different transformation techniques\n",
    "# 1. Log transformation\n",
    "df_transform['income_log'] = np.log(df_transform['income'])\n",
    "\n",
    "# 2. Z-score normalization\n",
    "df_transform['score_zscore'] = (df_transform['score'] - df_transform['score'].mean()) / df_transform['score'].std()\n",
    "\n",
    "# 3. Min-Max scaling\n",
    "df_transform['score_minmax'] = (df_transform['score'] - df_transform['score'].min()) / (df_transform['score'].max() - df_transform['score'].min())\n",
    "\n",
    "# Display summary statistics\n",
    "print(\"Summary statistics of transformed data:\")\n",
    "print(df_transform.describe())"
   ]
  },
  {
   "cell_type": "markdown",
   "id": "050a85b0",
   "metadata": {},
   "source": [
    "## 7. Practical Exercise: Time Series Analysis"
   ]
  }
 ],
 "metadata": {
  "kernelspec": {
   "display_name": "Python 3",
   "language": "python",
   "name": "python3"
  },
  "language_info": {
   "codemirror_mode": {
    "name": "ipython",
    "version": 3
   },
   "file_extension": ".py",
   "mimetype": "text/x-python",
   "name": "python",
   "nbconvert_exporter": "python",
   "pygments_lexer": "ipython3",
   "version": "3.8.0"
  }
 },
 "nbformat": 4,
 "nbformat_minor": 5
}
