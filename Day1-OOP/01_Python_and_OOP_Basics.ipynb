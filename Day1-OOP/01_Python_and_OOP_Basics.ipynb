{
 "cells": [
  {
   "cell_type": "markdown",
   "id": "6ca961f5",
   "metadata": {},
   "source": [
    "# Day 1: Python Basics and Object-Oriented Programming - Vels University\n",
    "\n",
    "Welcome to the first day of our Python programming course at Vels University. This comprehensive notebook covers Python basics and Object-Oriented Programming concepts.\n",
    "\n",
    "*Created by: MysticDevil and Nandhan K*"
   ]
  },
  {
   "cell_type": "markdown",
   "id": "3c2708f6",
   "metadata": {},
   "source": [
    "## Part 1: Python Basics\n",
    "\n",
    "### 1.1 Variables and Data Types"
   ]
  },
  {
   "cell_type": "code",
   "execution_count": null,
   "id": "974a8623",
   "metadata": {},
   "outputs": [],
   "source": [
    "# Basic data types\n",
    "student_name = \"John\"               # str\n",
    "student_age = 20                    # int\n",
    "student_grade = 85.5                # float\n",
    "is_enrolled = True                  # bool\n",
    "\n",
    "# Printing variables and their types\n",
    "print(f\"Name: {student_name} ({type(student_name)})\")\n",
    "print(f\"Age: {student_age} ({type(student_age)})\")\n",
    "print(f\"Grade: {student_grade} ({type(student_grade)})\")\n",
    "print(f\"Enrolled: {is_enrolled} ({type(is_enrolled)})\")\n",
    "\n",
    "# Type conversion\n",
    "grade_as_int = int(student_grade)\n",
    "age_as_string = str(student_age)\n",
    "print(f\"\\nConverted grade: {grade_as_int}\")\n",
    "print(f\"Converted age: {age_as_string}\")"
   ]
  },
  {
   "cell_type": "markdown",
   "id": "e57941e3",
   "metadata": {},
   "source": [
    "### 1.2 Operators"
   ]
  },
  {
   "cell_type": "code",
   "execution_count": null,
   "id": "8c7bb1ef",
   "metadata": {},
   "outputs": [],
   "source": [
    "# Arithmetic Operators\n",
    "a = 10\n",
    "b = 3\n",
    "\n",
    "print(\"Arithmetic Operations:\")\n",
    "print(f\"Addition: {a + b}\")\n",
    "print(f\"Subtraction: {a - b}\")\n",
    "print(f\"Multiplication: {a * b}\")\n",
    "print(f\"Division: {a / b}\")\n",
    "print(f\"Floor Division: {a // b}\")\n",
    "print(f\"Modulus: {a % b}\")\n",
    "print(f\"Exponent: {a ** b}\")\n",
    "\n",
    "# Comparison Operators\n",
    "print(\"\\nComparison Operations:\")\n",
    "print(f\"Equal to: {a == b}\")\n",
    "print(f\"Not equal to: {a != b}\")\n",
    "print(f\"Greater than: {a > b}\")\n",
    "print(f\"Less than: {a < b}\")\n",
    "print(f\"Greater than or equal to: {a >= b}\")\n",
    "print(f\"Less than or equal to: {a <= b}\")"
   ]
  },
  {
   "cell_type": "markdown",
   "id": "64044631",
   "metadata": {},
   "source": [
    "### 1.3 Control Structures"
   ]
  },
  {
   "cell_type": "code",
   "execution_count": null,
   "id": "c07dc5be",
   "metadata": {},
   "outputs": [],
   "source": [
    "# If-elif-else statement\n",
    "def grade_student(score):\n",
    "    if score >= 90:\n",
    "        return \"A\"\n",
    "    elif score >= 80:\n",
    "        return \"B\"\n",
    "    elif score >= 70:\n",
    "        return \"C\"\n",
    "    elif score >= 60:\n",
    "        return \"D\"\n",
    "    else:\n",
    "        return \"F\"\n",
    "\n",
    "# For loop\n",
    "print(\"Using for loop:\")\n",
    "scores = [85, 92, 78, 65, 95]\n",
    "for score in scores:\n",
    "    print(f\"Score: {score}, Grade: {grade_student(score)}\")\n",
    "\n",
    "# While loop\n",
    "print(\"\\nUsing while loop:\")\n",
    "count = 0\n",
    "while count < 3:\n",
    "    print(f\"Count: {count}\")\n",
    "    count += 1"
   ]
  },
  {
   "cell_type": "markdown",
   "id": "35ee3773",
   "metadata": {},
   "source": [
    "### 1.4 Functions"
   ]
  },
  {
   "cell_type": "code",
   "execution_count": null,
   "id": "de722711",
   "metadata": {},
   "outputs": [],
   "source": [
    "# Basic function\n",
    "def calculate_average(numbers):\n",
    "    return sum(numbers) / len(numbers)\n",
    "\n",
    "# Function with default parameters\n",
    "def greet(name, greeting=\"Hello\"):\n",
    "    return f\"{greeting}, {name}!\"\n",
    "\n",
    "# Function with multiple returns\n",
    "def analyze_numbers(numbers):\n",
    "    return min(numbers), max(numbers), calculate_average(numbers)\n",
    "\n",
    "# Testing functions\n",
    "numbers = [78, 85, 92, 88, 76]\n",
    "print(f\"Average: {calculate_average(numbers)}\")\n",
    "print(greet(\"John\"))\n",
    "print(greet(\"Mary\", \"Good morning\"))\n",
    "\n",
    "minimum, maximum, average = analyze_numbers(numbers)\n",
    "print(f\"\\nAnalysis: Min={minimum}, Max={maximum}, Avg={average:.2f}\")"
   ]
  },
  {
   "cell_type": "markdown",
   "id": "db15f482",
   "metadata": {},
   "source": [
    "### 1.5 Data Structures"
   ]
  },
  {
   "cell_type": "code",
   "execution_count": null,
   "id": "b8111993",
   "metadata": {},
   "outputs": [],
   "source": [
    "# Lists\n",
    "students = [\"John\", \"Mary\", \"Peter\", \"Sarah\"]\n",
    "grades = [85, 92, 78, 95]\n",
    "\n",
    "print(\"List Operations:\")\n",
    "students.append(\"Mike\")              # Add element\n",
    "grades.insert(0, 88)                # Insert at position\n",
    "print(f\"Students: {students}\")\n",
    "print(f\"Grades: {grades}\")\n",
    "\n",
    "# Tuples (immutable)\n",
    "coordinates = (10, 20)\n",
    "rgb_color = (255, 128, 0)\n",
    "\n",
    "print(\"\\nTuple Operations:\")\n",
    "x, y = coordinates                  # Tuple unpacking\n",
    "print(f\"Coordinates: x={x}, y={y}\")\n",
    "\n",
    "# Dictionaries\n",
    "student_info = {\n",
    "    \"name\": \"John\",\n",
    "    \"age\": 20,\n",
    "    \"grades\": [85, 90, 88],\n",
    "    \"active\": True\n",
    "}\n",
    "\n",
    "print(\"\\nDictionary Operations:\")\n",
    "print(f\"Student: {student_info['name']}\")\n",
    "student_info['department'] = 'Computer Science'  # Add new key-value pair\n",
    "print(f\"Keys: {student_info.keys()}\")\n",
    "print(f\"Values: {student_info.values()}\")"
   ]
  }
 ],
 "metadata": {
  "kernelspec": {
   "display_name": "Python 3",
   "language": "python",
   "name": "python3"
  },
  "language_info": {
   "name": "python",
   "version": "3.8.0"
  }
 },
 "nbformat": 4,
 "nbformat_minor": 5
}
