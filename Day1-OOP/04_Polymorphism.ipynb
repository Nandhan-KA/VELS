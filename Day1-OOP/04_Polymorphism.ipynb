{
 "cells": [
  {
   "cell_type": "markdown",
   "id": "ba939de8",
   "metadata": {},
   "source": [
    "# Polymorphism in Python\n",
    "\n",
    "Welcome to this tutorial on Polymorphism in Python! This notebook will cover how to implement and use polymorphism in Object-Oriented Programming.\n",
    "\n",
    "*Created by: MysticDevil and Nandhan K*"
   ]
  },
  {
   "cell_type": "markdown",
   "id": "4f4c3263",
   "metadata": {},
   "source": [
    "## 1. Method Overriding"
   ]
  },
  {
   "cell_type": "code",
   "execution_count": null,
   "id": "4507691d",
   "metadata": {},
   "outputs": [],
   "source": []
  },
  {
   "cell_type": "markdown",
   "id": "0b3365f9",
   "metadata": {},
   "source": [
    "## 2. Method Overloading (through Default Parameters)"
   ]
  },
  {
   "cell_type": "code",
   "execution_count": null,
   "id": "32102ea3",
   "metadata": {},
   "outputs": [],
   "source": [
    "class Calculator:\n",
    "    def add(self, *args):\n",
    "        return sum(args)\n",
    "    \n",
    "    def multiply(self, a, b=1, c=1):\n",
    "        return a * b * c\n",
    "    \n",
    "    def divide(self, a, b=1):\n",
    "        if b == 0:\n",
    "            raise ValueError(\"Cannot divide by zero\")\n",
    "        return a / b\n",
    "\n",
    "# Testing method overloading\n",
    "calc = Calculator()\n",
    "\n",
    "print(\"Addition:\")\n",
    "print(f\"2 numbers: {calc.add(5, 3)}\")\n",
    "print(f\"3 numbers: {calc.add(1, 2, 3)}\")\n",
    "print(f\"4 numbers: {calc.add(1, 2, 3, 4)}\")\n",
    "\n",
    "print(\"\\nMultiplication:\")\n",
    "print(f\"1 number: {calc.multiply(5)}\")\n",
    "print(f\"2 numbers: {calc.multiply(5, 3)}\")\n",
    "print(f\"3 numbers: {calc.multiply(5, 3, 2)}\")\n",
    "\n",
    "print(\"\\nDivision:\")\n",
    "print(f\"Single number: {calc.divide(10)}\")\n",
    "print(f\"Two numbers: {calc.divide(10, 2)}\")"
   ]
  }
 ],
 "metadata": {
  "kernelspec": {
   "display_name": "Python 3",
   "language": "python",
   "name": "python3"
  },
  "language_info": {
   "codemirror_mode": {
    "name": "ipython",
    "version": 3
   },
   "file_extension": ".py",
   "mimetype": "text/x-python",
   "name": "python",
   "nbconvert_exporter": "python",
   "pygments_lexer": "ipython3",
   "version": "3.8.0"
  }
 },
 "nbformat": 4,
 "nbformat_minor": 5
}
