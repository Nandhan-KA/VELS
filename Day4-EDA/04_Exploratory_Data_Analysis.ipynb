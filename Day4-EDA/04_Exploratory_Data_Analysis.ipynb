{
 "cells": [
  {
   "cell_type": "markdown",
   "id": "93462081",
   "metadata": {},
   "source": [
    "# Day 4: Exploratory Data Analysis I - Vels University Student Data Analysis\n",
    "\n",
    "This notebook covers advanced GroupBy operations and filtering techniques in pandas using Vels University student data.\n",
    "\n",
    "*Created by: MysticDevil and Nandhan K*"
   ]
  },
  {
   "cell_type": "markdown",
   "id": "cb41f991",
   "metadata": {},
   "source": [
    "## 1. Setting up the Environment and Sample Data"
   ]
  },
  {
   "cell_type": "code",
   "execution_count": null,
   "id": "aa8d2c0e",
   "metadata": {},
   "outputs": [
    {
     "name": "stdout",
     "output_type": "stream",
     "text": [
      "Sample of the Vels University student dataset:\n",
      "        date  roll_number        department semester  attendance       marks  \\\n",
      "0 2023-01-01            1           AI & DS      7th   78.513592   80.916782   \n",
      "1 2023-01-02            2    Cyber Security      6th   98.641670   68.685233   \n",
      "2 2023-01-03            3  Computer Science      2nd   96.687272   79.346623   \n",
      "3 2023-01-04            4           AI & DS      3rd   71.852690  100.000000   \n",
      "4 2023-01-05            5           AI & DS      7th   67.427646   88.066871   \n",
      "\n",
      "    student_type  \n",
      "0        Regular  \n",
      "1  Lateral Entry  \n",
      "2  Lateral Entry  \n",
      "3       Transfer  \n",
      "4  Lateral Entry  \n"
     ]
    }
   ],
   "source": [
    "import pandas as pd\n",
    "import numpy as np\n",
    "# Create sample student data\n",
    "np.random.seed(42)\n",
    "# Generate sample data\n",
    "departments = ['Computer Science', 'Information Technology', 'AI & DS', 'Cyber Security']\n",
    "semesters = ['1st', '2nd', '3rd', '4th', '5th', '6th', '7th', '8th']\n",
    "data = {\n",
    "    'date': pd.date_range('2023-01-01', '2023-12-31', freq='D'),\n",
    "    'roll_number': np.arange(1, 366),\n",
    "    'department': np.random.choice(departments, 365),\n",
    "    'semester': np.random.choice(semesters, 365),\n",
    "    'attendance': np.random.uniform(65, 100, 365),\n",
    "    'marks': np.random.normal(75, 15, 365),\n",
    "    'student_type': np.random.choice(['Regular', 'Lateral Entry', 'Transfer'], 365)\n",
    "}\n",
    "# Ensure marks are between 0 and 100\n",
    "data['marks'] = np.clip(data['marks'], 0, 100)\n",
    "\n",
    "df = pd.DataFrame(data)\n",
    "print(\"Sample of the Vels University student dataset:\")\n",
    "print(df.head())\n",
    "df.to_excel(\"vels_university_students.xlsx\", index=False)"
   ]
  },
  {
   "cell_type": "markdown",
   "id": "2e9d290e",
   "metadata": {},
   "source": [
    "## 2. Basic GroupBy Operations"
   ]
  },
  {
   "cell_type": "code",
   "execution_count": null,
   "id": "81d49251",
   "metadata": {},
   "outputs": [],
   "source": [
    "# Group by single column - Department-wise performance\n",
    "dept_stats = df.groupby('department')['marks'].agg(['mean', 'min', 'max', 'count'])\n",
    "print(\"Academic performance by department:\")\n",
    "print(dept_stats.round(2))\n",
    "\n",
    "# Group by multiple columns - Department and semester wise analysis\n",
    "dept_sem_stats = df.groupby(['department', 'semester'])['marks'].mean().unstack()\n",
    "print(\"\\nAverage marks by department and semester:\")\n",
    "print(dept_sem_stats.round(2))"
   ]
  },
  {
   "cell_type": "markdown",
   "id": "dcbab707",
   "metadata": {},
   "source": [
    "## 3. Advanced GroupBy Operations"
   ]
  },
  {
   "cell_type": "code",
   "execution_count": null,
   "id": "6e3cd613",
   "metadata": {},
   "outputs": [],
   "source": [
    "# Custom aggregation function for student performance\n",
    "def student_metrics(x):\n",
    "    return pd.Series({\n",
    "        'average_marks': x.mean(),\n",
    "        'highest_mark': x.max(),\n",
    "        'lowest_mark': x.min(),\n",
    "        'pass_rate': (x >= 40).mean() * 100,  # Percentage of students passing\n",
    "        'distinction_rate': (x >= 75).mean() * 100  # Percentage of distinctions\n",
    "    })\n",
    "\n",
    "# Apply custom aggregation\n",
    "advanced_stats = df.groupby(['department', 'semester'])['marks'].apply(student_metrics)\n",
    "print(\"Detailed academic performance metrics:\")\n",
    "print(advanced_stats.round(2))"
   ]
  },
  {
   "cell_type": "markdown",
   "id": "fccd3e89",
   "metadata": {},
   "source": [
    "## 4. Time-based Grouping"
   ]
  },
  {
   "cell_type": "code",
   "execution_count": null,
   "id": "ddfe40b0",
   "metadata": {},
   "outputs": [],
   "source": [
    "# Add time components\n",
    "df['month'] = df['date'].dt.month\n",
    "df['quarter'] = df['date'].dt.quarter\n",
    "df['day_of_week'] = df['date'].dt.day_name()\n",
    "\n",
    "# Monthly attendance trends\n",
    "monthly_attendance = df.groupby(['month', 'department'])['attendance'].mean().unstack()\n",
    "print(\"Monthly attendance trends by department:\")\n",
    "print(monthly_attendance.round(2))\n",
    "\n",
    "# Quarterly performance analysis\n",
    "quarterly_analysis = df.groupby(['quarter', 'department']).agg({\n",
    "    'marks': ['mean', 'std'],\n",
    "    'attendance': 'mean'\n",
    "}).round(2)\n",
    "print(\"\\nQuarterly academic performance analysis:\")\n",
    "print(quarterly_analysis)"
   ]
  },
  {
   "cell_type": "markdown",
   "id": "139814fd",
   "metadata": {},
   "source": [
    "## 5. Advanced Filtering"
   ]
  },
  {
   "cell_type": "code",
   "execution_count": null,
   "id": "b363569d",
   "metadata": {},
   "outputs": [],
   "source": [
    "# Using query() - Find high performers\n",
    "high_performers = df.query('marks > 85 and attendance > 90')\n",
    "print(\"High performing students (marks > 85 and attendance > 90):\")\n",
    "print(high_performers.head())\n",
    "\n",
    "# Using .isin() - Analyze specific departments\n",
    "tech_departments = df[df['department'].isin(['Computer Science', 'Information Technology'])]\n",
    "print(\"\\nPerformance in Technical Departments:\")\n",
    "print(tech_departments.groupby('department')['marks'].mean().round(2))\n",
    "\n",
    "# Complex conditions - Find exceptional students\n",
    "condition = (\n",
    "    (df['marks'] > df['marks'].mean()) &\n",
    "    (df['attendance'] > df['attendance'].median()) &\n",
    "    (df['student_type'] == 'Regular')\n",
    ")\n",
    "exceptional_students = df[condition]\n",
    "print(\"\\nExceptional regular students:\")\n",
    "print(exceptional_students.head())"
   ]
  },
  {
   "cell_type": "markdown",
   "id": "9d7a38ee",
   "metadata": {},
   "source": [
    "## 6. Window Functions and Rolling Calculations"
   ]
  },
  {
   "cell_type": "code",
   "execution_count": null,
   "id": "82b4d586",
   "metadata": {},
   "outputs": [],
   "source": [
    "# Sort by date\n",
    "df_sorted = df.sort_values('date')\n",
    "\n",
    "# Calculate rolling average attendance (7-day window)\n",
    "df_sorted['rolling_avg_attendance'] = df_sorted.groupby('department')['attendance'].transform(\n",
    "    lambda x: x.rolling(window=7, min_periods=1).mean()\n",
    ")\n",
    "\n",
    "# Calculate cumulative average marks\n",
    "df_sorted['cumulative_avg_marks'] = df_sorted.groupby('department')['marks'].transform(\n",
    "    lambda x: x.expanding().mean()\n",
    ")\n",
    "\n",
    "print(\"Rolling averages and cumulative statistics:\")\n",
    "print(df_sorted[['date', 'department', 'marks', 'attendance', \n",
    "                 'rolling_avg_attendance', 'cumulative_avg_marks']].head(10))"
   ]
  },
  {
   "cell_type": "markdown",
   "id": "353462dd",
   "metadata": {},
   "source": [
    "## 7. Practical Exercise: Sales Analysis"
   ]
  },
  {
   "cell_type": "code",
   "execution_count": null,
   "id": "773135f2",
   "metadata": {},
   "outputs": [],
   "source": [
    "# Comprehensive student performance analysis\n",
    "def academic_analysis(df):\n",
    "    # 1. Overall performance metrics\n",
    "    print(\"1. Overall Academic Performance Metrics:\")\n",
    "    overall_metrics = df.agg({\n",
    "        'marks': ['count', 'mean', 'std', 'min', 'max'],\n",
    "        'attendance': ['mean', 'min', 'max']\n",
    "    })\n",
    "    print(overall_metrics.round(2))\n",
    "    \n",
    "    # 2. Department ranking\n",
    "    print(\"\\n2. Department Performance Ranking:\")\n",
    "    dept_ranking = df.groupby('department').agg({\n",
    "        'marks': 'mean',\n",
    "        'attendance': 'mean'\n",
    "    }).sort_values('marks', ascending=False)\n",
    "    print(dept_ranking.round(2))\n",
    "    \n",
    "    # 3. Performance by student type\n",
    "    print(\"\\n3. Performance by Student Type:\")\n",
    "    student_type_perf = df.groupby(['department', 'student_type'])['marks'].mean().unstack()\n",
    "    print(student_type_perf.round(2))\n",
    "    \n",
    "    # 4. Monthly progress\n",
    "    print(\"\\n4. Monthly Progress:\")\n",
    "    monthly_progress = df.groupby('month')[['marks', 'attendance']].mean()\n",
    "    print(monthly_progress.round(2))\n",
    "\n",
    "# Run the analysis\n",
    "academic_analysis(df)"
   ]
  }
 ],
 "metadata": {
  "kernelspec": {
   "display_name": "Python 3",
   "language": "python",
   "name": "python3"
  },
  "language_info": {
   "codemirror_mode": {
    "name": "ipython",
    "version": 3
   },
   "file_extension": ".py",
   "mimetype": "text/x-python",
   "name": "python",
   "nbconvert_exporter": "python",
   "pygments_lexer": "ipython3",
   "version": "3.8.0"
  }
 },
 "nbformat": 4,
 "nbformat_minor": 5
}
