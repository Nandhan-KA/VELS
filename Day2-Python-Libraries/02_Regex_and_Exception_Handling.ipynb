{
 "cells": [
  {
   "cell_type": "markdown",
   "id": "e97a3255",
   "metadata": {},
   "source": [
    "# Day 2: Python Libraries - Regex & Exception Handling\n",
    "\n",
    "This notebook covers Regular Expressions and Exception Handling in Python."
   ]
  },
  {
   "cell_type": "markdown",
   "id": "6b47502f",
   "metadata": {},
   "source": [
    "## 1. Regular Expressions (re module)"
   ]
  },
  {
   "cell_type": "code",
   "execution_count": 1,
   "id": "5f2dc342",
   "metadata": {},
   "outputs": [
    {
     "name": "stdout",
     "output_type": "stream",
     "text": [
      "Match at start: Hello\n",
      "Search result: email\n"
     ]
    }
   ],
   "source": [
    "import re\n",
    "\n",
    "# Basic pattern matching\n",
    "text = \"Hello, my email is john.doe@example.com and phone is 123-456-7890\"\n",
    "\n",
    "# Using re.match() - matches at the beginning of the string\n",
    "match_result = re.match(r\"Hello\", text)\n",
    "print(\"Match at start:\", match_result.group() if match_result else \"No match\")\n",
    "\n",
    "# Using re.search() - matches anywhere in the string\n",
    "search_result = re.search(r\"email\", text)\n",
    "print(\"Search result:\", search_result.group() if search_result else \"No match\")"
   ]
  },
  {
   "cell_type": "markdown",
   "id": "503971c8",
   "metadata": {},
   "source": [
    "## 2. Email and Phone Validation"
   ]
  },
  {
   "cell_type": "code",
   "execution_count": 2,
   "id": "039aa009",
   "metadata": {},
   "outputs": [
    {
     "name": "stdout",
     "output_type": "stream",
     "text": [
      "Email Validation:\n",
      "john.doe@example.com: Valid\n",
      "invalid.email@: Invalid\n",
      "another@invalid: Invalid\n",
      "valid@domain.com: Valid\n",
      "\n",
      "Phone Validation:\n",
      "123-456-7890: Valid\n",
      "1234567890: Invalid\n",
      "123-456-789: Invalid\n",
      "456-789-0123: Valid\n"
     ]
    }
   ],
   "source": [
    "def validate_email(email):\n",
    "    pattern = r'^[a-zA-Z0-9._%+-]+@[a-zA-Z0-9.-]+\\.[a-zA-Z]{2,}$'\n",
    "    return bool(re.match(pattern, email))\n",
    "\n",
    "def validate_phone(phone):\n",
    "    pattern = r'^\\d{3}-\\d{3}-\\d{4}$'\n",
    "    pattern_in = r'\\d{10}'\n",
    "    return bool(re.match(pattern, phone))\n",
    "\n",
    "# Test cases\n",
    "emails = [\"john.doe@example.com\", \"invalid.email@\", \"another@invalid\", \"valid@domain.com\"]\n",
    "phones = [\"123-456-7890\", \"1234567890\", \"123-456-789\", \"456-789-0123\"]\n",
    "\n",
    "print(\"Email Validation:\")\n",
    "for email in emails:\n",
    "    print(f\"{email}: {'Valid' if validate_email(email) else 'Invalid'}\")\n",
    "\n",
    "print(\"\\nPhone Validation:\")\n",
    "for phone in phones:\n",
    "    print(f\"{phone}: {'Valid' if validate_phone(phone) else 'Invalid'}\")"
   ]
  },
  {
   "cell_type": "markdown",
   "id": "e469d55c",
   "metadata": {},
   "source": [
    "## 3. Finding and Replacing with Regex"
   ]
  },
  {
   "cell_type": "code",
   "execution_count": 3,
   "id": "56e99179",
   "metadata": {},
   "outputs": [
    {
     "name": "stdout",
     "output_type": "stream",
     "text": [
      "Found dates: ['2023-09-15', '2023/10/20', '15-09-2023']\n",
      "\n",
      "Cleaned text: Bold and Italic text\n"
     ]
    }
   ],
   "source": [
    "# Using findall()\n",
    "text = \"Dates: 2023-09-15, 2023/10/20, 15-09-2023\"\n",
    "\n",
    "# Find all dates in different formats\n",
    "date_pattern = r'\\d{2,4}[-/]\\d{2}[-/]\\d{2,4}'\n",
    "dates = re.findall(date_pattern, text)\n",
    "print(\"Found dates:\", dates)\n",
    "\n",
    "# Using sub() for replacement\n",
    "text_with_tags = \"<b>Bold</b> and <i>Italic</i> text\"\n",
    "# Remove HTML tags\n",
    "clean_text = re.sub(r'<[^>]+>', '', text_with_tags)\n",
    "print(\"\\nCleaned text:\", clean_text)"
   ]
  },
  {
   "cell_type": "markdown",
   "id": "cc7040b3",
   "metadata": {},
   "source": [
    "## 4. Exception Handling"
   ]
  },
  {
   "cell_type": "code",
   "execution_count": null,
   "id": "d5cd1c22",
   "metadata": {},
   "outputs": [],
   "source": [
    "def divide_numbers(a, b):\n",
    "    try:\n",
    "        result = a / b\n",
    "    except ZeroDivisionError:\n",
    "        print(\"Error: Division by zero!\")\n",
    "        return None\n",
    "    except TypeError:\n",
    "        print(\"Error: Invalid input types!\")\n",
    "        return None\n",
    "    else:\n",
    "        print(\"Division successful!\")\n",
    "        return result\n",
    "    finally:\n",
    "        print(\"Division operation completed.\")\n",
    "\n",
    "# Test cases\n",
    "print(\"Case 1:\", divide_numbers(10, 2))\n",
    "print(\"\\nCase 2:\", divide_numbers(10, 0))\n",
    "print(\"\\nCase 3:\", divide_numbers(\"10\", \"2\"))"
   ]
  },
  {
   "cell_type": "markdown",
   "id": "ea6e9df2",
   "metadata": {},
   "source": [
    "## 5. Custom Exceptions"
   ]
  },
  {
   "cell_type": "code",
   "execution_count": null,
   "id": "4f08e9ca",
   "metadata": {},
   "outputs": [],
   "source": [
    "class AgeError(Exception):\n",
    "    \"\"\"Exception raised for invalid age values.\"\"\"\n",
    "    pass\n",
    "\n",
    "def validate_age(age):\n",
    "    try:\n",
    "        age = int(age)\n",
    "        if age < 0:\n",
    "            raise AgeError(\"Age cannot be negative\")\n",
    "        if age > 150:\n",
    "            raise AgeError(\"Age seems unrealistic\")\n",
    "        return age\n",
    "    except ValueError:\n",
    "        raise AgeError(\"Age must be a number\")\n",
    "\n",
    "# Test cases\n",
    "test_ages = [25, -5, \"thirty\", 200]\n",
    "\n",
    "for age in test_ages:\n",
    "    try:\n",
    "        validated_age = validate_age(age)\n",
    "        print(f\"Age {age} is valid: {validated_age}\")\n",
    "    except AgeError as e:\n",
    "        print(f\"Error for age {age}: {str(e)}\")"
   ]
  },
  {
   "cell_type": "markdown",
   "id": "9053141f",
   "metadata": {},
   "source": [
    "## 6. File Operations with Exception Handling"
   ]
  },
  {
   "cell_type": "code",
   "execution_count": null,
   "id": "0af358c9",
   "metadata": {},
   "outputs": [],
   "source": [
    "def safe_read_file(filename):\n",
    "    try:\n",
    "        with open(filename, 'r') as file:\n",
    "            content = file.read()\n",
    "            return content\n",
    "    except FileNotFoundError:\n",
    "        print(f\"Error: File '{filename}' not found\")\n",
    "    except PermissionError:\n",
    "        print(f\"Error: No permission to read '{filename}'\")\n",
    "    except Exception as e:\n",
    "        print(f\"Unexpected error: {str(e)}\")\n",
    "    return None\n",
    "\n",
    "# Test with different scenarios\n",
    "print(\"Reading existing file:\")\n",
    "# Create a test file\n",
    "with open('test.txt', 'w') as f:\n",
    "    f.write('Test content')\n",
    "print(safe_read_file('test.txt'))\n",
    "\n",
    "print(\"\\nReading non-existent file:\")\n",
    "print(safe_read_file('nonexistent.txt'))"
   ]
  }
 ],
 "metadata": {
  "kernelspec": {
   "display_name": "Python 3",
   "language": "python",
   "name": "python3"
  },
  "language_info": {
   "codemirror_mode": {
    "name": "ipython",
    "version": 3
   },
   "file_extension": ".py",
   "mimetype": "text/x-python",
   "name": "python",
   "nbconvert_exporter": "python",
   "pygments_lexer": "ipython3",
   "version": "3.8.0"
  }
 },
 "nbformat": 4,
 "nbformat_minor": 5
}
