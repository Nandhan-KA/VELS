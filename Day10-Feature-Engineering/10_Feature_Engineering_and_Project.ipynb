{
 "cells": [
  {
   "cell_type": "markdown",
   "id": "e3c5774f",
   "metadata": {},
   "source": [
    "# Day 10: Feature Engineering, Model Evaluation & Mini Project\n",
    "\n",
    "This notebook covers feature engineering techniques, model evaluation methods, and includes a mini project."
   ]
  },
  {
   "cell_type": "markdown",
   "id": "bac6c3ec",
   "metadata": {},
   "source": [
    "## 1. Setting up the Environment"
   ]
  },
  {
   "cell_type": "code",
   "execution_count": 1,
   "id": "f35471ae",
   "metadata": {},
   "outputs": [],
   "source": [
    "import numpy as np\n",
    "import pandas as pd\n",
    "import matplotlib.pyplot as plt\n",
    "import seaborn as sns\n",
    "from sklearn.model_selection import train_test_split, cross_val_score, KFold\n",
    "from sklearn.preprocessing import StandardScaler, LabelEncoder, OneHotEncoder\n",
    "from sklearn.compose import ColumnTransformer\n",
    "from sklearn.pipeline import Pipeline\n",
    "from sklearn.linear_model import LogisticRegression\n",
    "from sklearn.ensemble import RandomForestClassifier\n",
    "from sklearn.metrics import accuracy_score, classification_report, confusion_matrix\n",
    "from sklearn.feature_selection import SelectKBest, f_classif\n",
    "\n",
    "# Set random seed for reproducibility\n",
    "np.random.seed(42)"
   ]
  },
  {
   "cell_type": "markdown",
   "id": "6e49365a",
   "metadata": {},
   "source": [
    "## 2. Feature Engineering"
   ]
  },
  {
   "cell_type": "code",
   "execution_count": 2,
   "id": "8fe17fe0",
   "metadata": {},
   "outputs": [
    {
     "name": "stdout",
     "output_type": "stream",
     "text": [
      "Sample of the dataset:\n",
      "   PassengerId  Survived  Pclass  \\\n",
      "0            1         0       3   \n",
      "1            2         1       1   \n",
      "2            3         1       3   \n",
      "3            4         1       1   \n",
      "4            5         0       3   \n",
      "\n",
      "                                                Name     Sex   Age  SibSp  \\\n",
      "0                            Braund, Mr. Owen Harris    male  22.0      1   \n",
      "1  Cumings, Mrs. John Bradley (Florence Briggs Th...  female  38.0      1   \n",
      "2                             Heikkinen, Miss. Laina  female  26.0      0   \n",
      "3       Futrelle, Mrs. Jacques Heath (Lily May Peel)  female  35.0      1   \n",
      "4                           Allen, Mr. William Henry    male  35.0      0   \n",
      "\n",
      "   Parch            Ticket     Fare Cabin Embarked  \n",
      "0      0         A/5 21171   7.2500   NaN        S  \n",
      "1      0          PC 17599  71.2833   C85        C  \n",
      "2      0  STON/O2. 3101282   7.9250   NaN        S  \n",
      "3      0            113803  53.1000  C123        S  \n",
      "4      0            373450   8.0500   NaN        S  \n",
      "\n",
      "Dataset info:\n",
      "<class 'pandas.core.frame.DataFrame'>\n",
      "RangeIndex: 891 entries, 0 to 890\n",
      "Data columns (total 12 columns):\n",
      " #   Column       Non-Null Count  Dtype  \n",
      "---  ------       --------------  -----  \n",
      " 0   PassengerId  891 non-null    int64  \n",
      " 1   Survived     891 non-null    int64  \n",
      " 2   Pclass       891 non-null    int64  \n",
      " 3   Name         891 non-null    object \n",
      " 4   Sex          891 non-null    object \n",
      " 5   Age          714 non-null    float64\n",
      " 6   SibSp        891 non-null    int64  \n",
      " 7   Parch        891 non-null    int64  \n",
      " 8   Ticket       891 non-null    object \n",
      " 9   Fare         891 non-null    float64\n",
      " 10  Cabin        204 non-null    object \n",
      " 11  Embarked     889 non-null    object \n",
      "dtypes: float64(2), int64(5), object(5)\n",
      "memory usage: 83.7+ KB\n",
      "None\n"
     ]
    }
   ],
   "source": [
    "# Load Titanic dataset\n",
    "url = \"https://raw.githubusercontent.com/datasciencedojo/datasets/master/titanic.csv\"\n",
    "titanic_data = pd.read_csv(url)\n",
    "\n",
    "print(\"Sample of the dataset:\")\n",
    "print(titanic_data.head())\n",
    "\n",
    "print(\"\\nDataset info:\")\n",
    "print(titanic_data.info())"
   ]
  },
  {
   "cell_type": "markdown",
   "id": "94064ad2",
   "metadata": {},
   "source": [
    "## 3. Data Preprocessing and Feature Engineering"
   ]
  },
  {
   "cell_type": "code",
   "execution_count": 3,
   "id": "6b723e64",
   "metadata": {},
   "outputs": [
    {
     "name": "stdout",
     "output_type": "stream",
     "text": [
      "Classification Report:\n",
      "              precision    recall  f1-score   support\n",
      "\n",
      "           0       0.85      0.87      0.86       105\n",
      "           1       0.81      0.78      0.79        74\n",
      "\n",
      "    accuracy                           0.83       179\n",
      "   macro avg       0.83      0.83      0.83       179\n",
      "weighted avg       0.83      0.83      0.83       179\n",
      "\n"
     ]
    },
    {
     "name": "stderr",
     "output_type": "stream",
     "text": [
      "c:\\Users\\Nandhan\\AppData\\Local\\Programs\\Python\\Python38\\lib\\site-packages\\sklearn\\preprocessing\\_encoders.py:975: FutureWarning: `sparse` was renamed to `sparse_output` in version 1.2 and will be removed in 1.4. `sparse_output` is ignored unless you leave `sparse` to its default value.\n",
      "  warnings.warn(\n"
     ]
    }
   ],
   "source": [
    "# Handle missing values\n",
    "def preprocess_data(df):\n",
    "    # Create copy\n",
    "    df = df.copy()\n",
    "    \n",
    "    # Fill missing values\n",
    "    df['Age'].fillna(df['Age'].median(), inplace=True)\n",
    "    df['Embarked'].fillna(df['Embarked'].mode()[0], inplace=True)\n",
    "    df['Fare'].fillna(df['Fare'].median(), inplace=True)\n",
    "    \n",
    "    # Feature engineering\n",
    "    # 1. Extract title from name\n",
    "    df['Title'] = df['Name'].str.extract(' ([A-Za-z]+)\\.', expand=False)\n",
    "    title_mapping = {\n",
    "        'Mr': 1, 'Miss': 2, 'Mrs': 3, 'Master': 4,\n",
    "        'Dr': 5, 'Rev': 5, 'Col': 5, 'Major': 5, 'Mlle': 2,\n",
    "        'Countess': 5, 'Ms': 2, 'Lady': 5, 'Jonkheer': 5,\n",
    "        'Don': 5, 'Dona': 5, 'Mme': 3, 'Capt': 5, 'Sir': 5\n",
    "    }\n",
    "    df['Title'] = df['Title'].map(title_mapping)\n",
    "    \n",
    "    # 2. Family size\n",
    "    df['FamilySize'] = df['SibSp'] + df['Parch'] + 1\n",
    "    \n",
    "    # 3. Is alone\n",
    "    df['IsAlone'] = (df['FamilySize'] == 1).astype(int)\n",
    "    \n",
    "    # 4. Age bands\n",
    "    df['AgeBand'] = pd.cut(df['Age'], 5)\n",
    "    \n",
    "    # 5. Fare bands\n",
    "    df['FareBand'] = pd.qcut(df['Fare'], 4)\n",
    "    \n",
    "    # Select features for model\n",
    "    features = ['Pclass', 'Sex', 'Age', 'Fare', 'Embarked', \n",
    "                'Title', 'FamilySize', 'IsAlone']\n",
    "    \n",
    "    return df[features], df['Survived']\n",
    "\n",
    "# Prepare data\n",
    "X, y = preprocess_data(titanic_data)\n",
    "\n",
    "# Split features into numeric and categorical\n",
    "numeric_features = ['Age', 'Fare', 'FamilySize']\n",
    "categorical_features = ['Pclass', 'Sex', 'Embarked', 'Title', 'IsAlone']\n",
    "\n",
    "# Create preprocessing pipelines\n",
    "numeric_transformer = StandardScaler()\n",
    "categorical_transformer = OneHotEncoder(drop='first', sparse=False)\n",
    "\n",
    "# Combine preprocessing steps\n",
    "preprocessor = ColumnTransformer(\n",
    "    transformers=[\n",
    "        ('num', numeric_transformer, numeric_features),\n",
    "        ('cat', categorical_transformer, categorical_features)\n",
    "    ])\n",
    "\n",
    "# Create pipeline\n",
    "clf = Pipeline(steps=[\n",
    "    ('preprocessor', preprocessor),\n",
    "    ('classifier', RandomForestClassifier())\n",
    "])\n",
    "\n",
    "# Split the data\n",
    "X_train, X_test, y_train, y_test = train_test_split(X, y, test_size=0.2, random_state=42)\n",
    "\n",
    "# Fit the pipeline\n",
    "clf.fit(X_train, y_train)\n",
    "\n",
    "# Make predictions\n",
    "y_pred = clf.predict(X_test)\n",
    "\n",
    "# Print results\n",
    "print(\"Classification Report:\")\n",
    "print(classification_report(y_test, y_pred))"
   ]
  },
  {
   "cell_type": "markdown",
   "id": "dfc3eb2b",
   "metadata": {},
   "source": [
    "## 4. Feature Selection"
   ]
  },
  {
   "cell_type": "code",
   "execution_count": 4,
   "id": "96ced989",
   "metadata": {},
   "outputs": [
    {
     "name": "stderr",
     "output_type": "stream",
     "text": [
      "c:\\Users\\Nandhan\\AppData\\Local\\Programs\\Python\\Python38\\lib\\site-packages\\sklearn\\preprocessing\\_encoders.py:975: FutureWarning: `sparse` was renamed to `sparse_output` in version 1.2 and will be removed in 1.4. `sparse_output` is ignored unless you leave `sparse` to its default value.\n",
      "  warnings.warn(\n"
     ]
    },
    {
     "name": "stdout",
     "output_type": "stream",
     "text": [
      "Feature ranking:\n",
      "1. Fare (0.254728)\n",
      "2. Age (0.230355)\n",
      "3. Sex_male (0.189995)\n",
      "4. Pclass_3 (0.070819)\n",
      "5. FamilySize (0.064154)\n",
      "6. Title_3 (0.057956)\n",
      "7. Title_2 (0.043815)\n",
      "8. Embarked_S (0.022487)\n",
      "9. Title_4 (0.018421)\n",
      "10. Pclass_2 (0.017227)\n",
      "11. IsAlone_1 (0.014665)\n",
      "12. Embarked_Q (0.009037)\n",
      "13. Title_5 (0.006343)\n"
     ]
    },
    {
     "data": {
      "image/png": "[encoded data removed]",
      "text/plain": [
       "<Figure size 1000x600 with 1 Axes>"
      ]
     },
     "metadata": {},
     "output_type": "display_data"
    }
   ],
   "source": [
    "# Feature importance from Random Forest\n",
    "feature_names = (numeric_features + \n",
    "                [f\"{feat}_{val}\" for feat, vals in \n",
    "                 zip(categorical_features, \n",
    "                     categorical_transformer.fit(X_train[categorical_features]).categories_)\n",
    "                 for val in vals[1:]])\n",
    "\n",
    "importances = clf.named_steps['classifier'].feature_importances_\n",
    "indices = np.argsort(importances)[::-1]\n",
    "\n",
    "# Print feature ranking\n",
    "print(\"Feature ranking:\")\n",
    "for f in range(len(importances)):\n",
    "    print(\"%d. %s (%f)\" % (f + 1, feature_names[indices[f]], importances[indices[f]]))\n",
    "\n",
    "# Plot feature importance\n",
    "plt.figure(figsize=(10, 6))\n",
    "plt.title(\"Feature Importances\")\n",
    "plt.bar(range(len(importances)), importances[indices])\n",
    "plt.xticks(range(len(importances)), [feature_names[i] for i in indices], rotation=45)\n",
    "plt.tight_layout()\n",
    "plt.show()"
   ]
  },
  {
   "cell_type": "markdown",
   "id": "aca20cc8",
   "metadata": {},
   "source": [
    "## 5. Model Evaluation"
   ]
  },
  {
   "cell_type": "code",
   "execution_count": null,
   "id": "bd209052",
   "metadata": {},
   "outputs": [],
   "source": [
    "# Cross-validation\n",
    "cv = KFold(n_splits=5, shuffle=True, random_state=42)\n",
    "cv_scores = cross_val_score(clf, X, y, cv=cv)\n",
    "\n",
    "print(\"Cross-validation scores:\", cv_scores)\n",
    "print(\"Average CV score: %0.3f (+/- %0.3f)\" % (cv_scores.mean(), cv_scores.std() * 2))\n",
    "\n",
    "# Confusion Matrix\n",
    "cm = confusion_matrix(y_test, y_pred)\n",
    "plt.figure(figsize=(8, 6))\n",
    "sns.heatmap(cm, annot=True, fmt='d', cmap='Blues')\n",
    "plt.title('Confusion Matrix')\n",
    "plt.ylabel('True Label')\n",
    "plt.xlabel('Predicted Label')\n",
    "plt.show()"
   ]
  },
  {
   "cell_type": "markdown",
   "id": "309015cd",
   "metadata": {},
   "source": [
    "## 6. Model Comparison"
   ]
  },
  {
   "cell_type": "code",
   "execution_count": null,
   "id": "ea607d51",
   "metadata": {},
   "outputs": [],
   "source": [
    "# Compare different models\n",
    "models = {\n",
    "    'Logistic Regression': LogisticRegression(),\n",
    "    'Random Forest': RandomForestClassifier()\n",
    "}\n",
    "\n",
    "results = []\n",
    "\n",
    "for name, model in models.items():\n",
    "    # Create pipeline with model\n",
    "    pipeline = Pipeline([\n",
    "        ('preprocessor', preprocessor),\n",
    "        ('classifier', model)\n",
    "    ])\n",
    "    \n",
    "    # Cross-validation\n",
    "    cv_scores = cross_val_score(pipeline, X, y, cv=5)\n",
    "    \n",
    "    # Store results\n",
    "    results.append({\n",
    "        'Model': name,\n",
    "        'CV Mean': cv_scores.mean(),\n",
    "        'CV Std': cv_scores.std(),\n",
    "        'CV Scores': cv_scores\n",
    "    })\n",
    "\n",
    "# Display results\n",
    "results_df = pd.DataFrame(results)\n",
    "print(\"Model Comparison:\")\n",
    "print(results_df[['Model', 'CV Mean', 'CV Std']])\n",
    "\n",
    "# Plot comparison\n",
    "plt.figure(figsize=(10, 6))\n",
    "plt.boxplot([r['CV Scores'] for r in results], labels=[r['Model'] for r in results])\n",
    "plt.title('Model Comparison - Cross-validation Scores')\n",
    "plt.ylabel('Accuracy')\n",
    "plt.show()"
   ]
  },
  {
   "cell_type": "markdown",
   "id": "2ae4ba01",
   "metadata": {},
   "source": [
    "## 7. Bias-Variance Tradeoff Analysis"
   ]
  },
  {
   "cell_type": "code",
   "execution_count": null,
   "id": "8b57e2dc",
   "metadata": {},
   "outputs": [],
   "source": [
    "def analyze_learning_curve(estimator, X, y, title):\n",
    "    from sklearn.model_selection import learning_curve\n",
    "    \n",
    "    train_sizes = np.linspace(0.1, 1.0, 10)\n",
    "    train_sizes, train_scores, test_scores = learning_curve(\n",
    "        estimator, X, y, cv=5, n_jobs=-1, train_sizes=train_sizes\n",
    "    )\n",
    "    \n",
    "    train_mean = np.mean(train_scores, axis=1)\n",
    "    train_std = np.std(train_scores, axis=1)\n",
    "    test_mean = np.mean(test_scores, axis=1)\n",
    "    test_std = np.std(test_scores, axis=1)\n",
    "    \n",
    "    plt.figure(figsize=(10, 6))\n",
    "    plt.plot(train_sizes, train_mean, label='Training score')\n",
    "    plt.plot(train_sizes, test_mean, label='Cross-validation score')\n",
    "    \n",
    "    plt.fill_between(train_sizes, train_mean - train_std,\n",
    "                     train_mean + train_std, alpha=0.1)\n",
    "    plt.fill_between(train_sizes, test_mean - test_std,\n",
    "                     test_mean + test_std, alpha=0.1)\n",
    "    \n",
    "    plt.xlabel('Training Examples')\n",
    "    plt.ylabel('Score')\n",
    "    plt.title(f'Learning Curve - {title}')\n",
    "    plt.legend(loc='best')\n",
    "    plt.grid(True)\n",
    "    plt.show()\n",
    "\n",
    "# Analyze learning curves for both models\n",
    "for name, model in models.items():\n",
    "    pipeline = Pipeline([\n",
    "        ('preprocessor', preprocessor),\n",
    "        ('classifier', model)\n",
    "    ])\n",
    "    analyze_learning_curve(pipeline, X, y, name)"
   ]
  },
  {
   "cell_type": "markdown",
   "id": "abddf8f8",
   "metadata": {},
   "source": [
    "## 8. Model Deployment and Prediction"
   ]
  },
  {
   "cell_type": "code",
   "execution_count": null,
   "id": "eab322a4",
   "metadata": {},
   "outputs": [],
   "source": [
    "def predict_survival(model, preprocessor, passenger_data):\n",
    "    # Create DataFrame with single passenger\n",
    "    passenger_df = pd.DataFrame([passenger_data])\n",
    "    \n",
    "    # Preprocess the data\n",
    "    processed_data = preprocessor.transform(passenger_df)\n",
    "    \n",
    "    # Make prediction\n",
    "    prediction = model.predict(processed_data)\n",
    "    probability = model.predict_proba(processed_data)\n",
    "    \n",
    "    return prediction[0], probability[0]\n",
    "\n",
    "# Example passenger\n",
    "example_passenger = {\n",
    "    'Pclass': 1,\n",
    "    'Sex': 'female',\n",
    "    'Age': 25,\n",
    "    'Fare': 50,\n",
    "    'Embarked': 'S',\n",
    "    'Title': 2,  # Miss\n",
    "    'FamilySize': 1,\n",
    "    'IsAlone': 1\n",
    "}\n",
    "\n",
    "# Get best model from comparison\n",
    "best_model = clf.named_steps['classifier']\n",
    "best_preprocessor = clf.named_steps['preprocessor']\n",
    "\n",
    "# Make prediction\n",
    "prediction, probability = predict_survival(best_model, best_preprocessor, example_passenger)\n",
    "\n",
    "print(\"Prediction for example passenger:\")\n",
    "print(f\"Survival: {'Yes' if prediction == 1 else 'No'}\")\n",
    "print(f\"Probability of survival: {probability[1]:.2f}\")"
   ]
  }
 ],
 "metadata": {
  "kernelspec": {
   "display_name": "Python 3",
   "language": "python",
   "name": "python3"
  },
  "language_info": {
   "codemirror_mode": {
    "name": "ipython",
    "version": 3
   },
   "file_extension": ".py",
   "mimetype": "text/x-python",
   "name": "python",
   "nbconvert_exporter": "python",
   "pygments_lexer": "ipython3",
   "version": "3.8.0"
  }
 },
 "nbformat": 4,
 "nbformat_minor": 5
}
